{
 "cells": [
  {
   "cell_type": "code",
   "execution_count": 12,
   "id": "e621c3db",
   "metadata": {},
   "outputs": [],
   "source": [
    "#!wget https://github.com/SVizor42/ML_Zoomcamp/releases/download/dino-dragon-model/dino_dragon_10_0.899.h5"
   ]
  },
  {
   "cell_type": "markdown",
   "id": "c2bce592",
   "metadata": {},
   "source": [
    "# convert model to TFlite"
   ]
  },
  {
   "cell_type": "code",
   "execution_count": 5,
   "id": "6b34a6bd",
   "metadata": {},
   "outputs": [],
   "source": [
    "import tensorflow as tf\n",
    "from tensorflow import keras"
   ]
  },
  {
   "cell_type": "code",
   "execution_count": 8,
   "id": "dc081133",
   "metadata": {},
   "outputs": [
    {
     "name": "stderr",
     "output_type": "stream",
     "text": [
      "2022-12-20 20:07:08.913849: I tensorflow/compiler/jit/xla_cpu_device.cc:41] Not creating XLA devices, tf_xla_enable_xla_devices not set\n",
      "2022-12-20 20:07:08.917537: I tensorflow/core/platform/cpu_feature_guard.cc:142] This TensorFlow binary is optimized with oneAPI Deep Neural Network Library (oneDNN) to use the following CPU instructions in performance-critical operations:  SSE4.1 SSE4.2 AVX AVX2 FMA\n",
      "To enable them in other operations, rebuild TensorFlow with the appropriate compiler flags.\n",
      "2022-12-20 20:07:08.934718: I tensorflow/core/common_runtime/process_util.cc:146] Creating new thread pool with default inter op setting: 2. Tune using inter_op_parallelism_threads for best performance.\n"
     ]
    }
   ],
   "source": [
    "model = keras.models.load_model('dino_dragon_10_0.899.h5')"
   ]
  },
  {
   "cell_type": "code",
   "execution_count": 9,
   "id": "8e1ccb65",
   "metadata": {},
   "outputs": [
    {
     "name": "stderr",
     "output_type": "stream",
     "text": [
      "2022-12-20 20:08:00.828488: W tensorflow/python/util/util.cc:348] Sets are not currently considered sequences, but this may change in the future, so consider avoiding using them.\n"
     ]
    },
    {
     "name": "stdout",
     "output_type": "stream",
     "text": [
      "INFO:tensorflow:Assets written to: /tmp/tmphagbuibk/assets\n"
     ]
    },
    {
     "name": "stderr",
     "output_type": "stream",
     "text": [
      "2022-12-20 20:08:01.391831: I tensorflow/core/grappler/devices.cc:78] Number of eligible GPUs (core count >= 8, compute capability >= 0.0): 0 (Note: TensorFlow was not compiled with CUDA or ROCm support)\n",
      "2022-12-20 20:08:01.392123: I tensorflow/core/grappler/clusters/single_machine.cc:356] Starting new session\n",
      "2022-12-20 20:08:01.393125: I tensorflow/core/platform/profile_utils/cpu_utils.cc:112] CPU Frequency: 1800000000 Hz\n",
      "2022-12-20 20:08:01.409727: I tensorflow/core/grappler/optimizers/meta_optimizer.cc:928] Optimization results for grappler item: graph_to_optimize\n",
      "  function_optimizer: function_optimizer did nothing. time = 1.579ms.\n",
      "  function_optimizer: function_optimizer did nothing. time = 0.001ms.\n",
      "\n",
      "2022-12-20 20:08:02.407774: W tensorflow/compiler/mlir/lite/python/tf_tfl_flatbuffer_helpers.cc:316] Ignored output_format.\n",
      "2022-12-20 20:08:02.407877: W tensorflow/compiler/mlir/lite/python/tf_tfl_flatbuffer_helpers.cc:319] Ignored drop_control_dependency.\n",
      "2022-12-20 20:08:02.674868: I tensorflow/core/common_runtime/process_util.cc:146] Creating new thread pool with default inter op setting: 2. Tune using inter_op_parallelism_threads for best performance.\n"
     ]
    }
   ],
   "source": [
    "converter = tf.lite.TFLiteConverter.from_keras_model(model)\n",
    "tflite_model = converter.convert()\n",
    "\n",
    "with open('dragon_model.tflite', 'wb') as f_out:\n",
    "    f_out.write(tflite_model)"
   ]
  },
  {
   "cell_type": "code",
   "execution_count": 11,
   "id": "3cef0bda",
   "metadata": {},
   "outputs": [
    {
     "name": "stdout",
     "output_type": "stream",
     "text": [
      "total 131480\r\n",
      "drwxrwxrwx 1 rollytiger rollytiger      512 Dec 20 20:08 \u001b[0m\u001b[34;42m.\u001b[0m/\r\n",
      "drwxrwxrwx 1 rollytiger rollytiger      512 Dec 20 20:03 \u001b[34;42m..\u001b[0m/\r\n",
      "drwxrwxrwx 1 rollytiger rollytiger      512 Dec 20 20:05 \u001b[34;42m.ipynb_checkpoints\u001b[0m/\r\n",
      "-rwxrwxrwx 1 rollytiger rollytiger 89759168 Nov 19 19:23 \u001b[01;32mdino_dragon_10_0.899.h5\u001b[0m*\r\n",
      "-rwxrwxrwx 1 rollytiger rollytiger 44865888 Dec 20 20:08 \u001b[01;32mdragon_model.tflite\u001b[0m*\r\n",
      "-rwxrwxrwx 1 rollytiger rollytiger     6369 Dec 20 20:08 \u001b[01;32mhw9_notebook.ipynb\u001b[0m*\r\n"
     ]
    }
   ],
   "source": [
    "ls -la"
   ]
  },
  {
   "cell_type": "markdown",
   "id": "0dd78736",
   "metadata": {},
   "source": [
    "# use the tflite model"
   ]
  },
  {
   "cell_type": "code",
   "execution_count": 1,
   "id": "cea68132",
   "metadata": {},
   "outputs": [],
   "source": [
    "import tflite_runtime.interpreter as tflite"
   ]
  },
  {
   "cell_type": "code",
   "execution_count": 2,
   "id": "ea1ec14a",
   "metadata": {},
   "outputs": [
    {
     "name": "stderr",
     "output_type": "stream",
     "text": [
      "INFO: Created TensorFlow Lite XNNPACK delegate for CPU.\n"
     ]
    }
   ],
   "source": [
    "interpreter = tflite.Interpreter(model_path='dragon_model.tflite')\n",
    "interpreter.allocate_tensors()\n",
    "input_index = interpreter.get_input_details()[0]['index']\n",
    "output_index = interpreter.get_output_details()[0]['index']"
   ]
  },
  {
   "cell_type": "markdown",
   "id": "6482548c",
   "metadata": {},
   "source": [
    "## load image"
   ]
  },
  {
   "cell_type": "code",
   "execution_count": 3,
   "id": "9a912fdc",
   "metadata": {},
   "outputs": [],
   "source": [
    "import numpy as np\n",
    "from PIL import Image\n",
    "from urllib import request\n",
    "from io import BytesIO\n",
    "   \n",
    "def prepare_image(img, target_size):\n",
    "    if img.mode != 'RGB':\n",
    "        img = img.convert('RGB')\n",
    "    img = img.resize(target_size, Image.NEAREST)\n",
    "    return img\n",
    "\n",
    "def preprocess_manual(x):\n",
    "    x /= 255   \n",
    "    return x\n",
    "\n",
    "classes = ['dino',\n",
    "           'dragon']"
   ]
  },
  {
   "cell_type": "code",
   "execution_count": 4,
   "id": "efe549d3",
   "metadata": {},
   "outputs": [],
   "source": [
    "url = 'https://upload.wikimedia.org/wikipedia/commons/thumb/d/df/Smaug_par_David_Demaret.jpg/1280px-Smaug_par_David_Demaret.jpg'"
   ]
  },
  {
   "cell_type": "code",
   "execution_count": 28,
   "id": "abc99a12",
   "metadata": {},
   "outputs": [],
   "source": [
    "def predict(url):\n",
    "    \n",
    "    response = request.urlopen(url)\n",
    "    with Image.open(BytesIO(response.read())) as img:\n",
    "        img = img.resize((150,150), Image.NEAREST)\n",
    "        \n",
    "    x = np.array(img, dtype = 'float32')\n",
    "    X = np.array([x])\n",
    "    X = preprocess_manual(X)\n",
    "    \n",
    "    interpreter.set_tensor(input_index, X)\n",
    "    interpreter.invoke()\n",
    "    \n",
    "    tf_preds = interpreter.get_tensor(output_index)\n",
    "    \n",
    "    dicta = {}\n",
    "\n",
    "    if tf_preds[0][0] > 0.5:\n",
    "        animal = 'dragon'\n",
    "    else:\n",
    "        animal = 'dino'\n",
    "\n",
    "    dicta[animal] = str(tf_preds[0][0])\n",
    "    \n",
    "    return dicta"
   ]
  },
  {
   "cell_type": "code",
   "execution_count": 29,
   "id": "ecc8ef44",
   "metadata": {},
   "outputs": [
    {
     "name": "stderr",
     "output_type": "stream",
     "text": [
      "/tmp/ipykernel_289/1966568172.py:5: DeprecationWarning: NEAREST is deprecated and will be removed in Pillow 10 (2023-07-01). Use Resampling.NEAREST or Dither.NONE instead.\n",
      "  img = img.resize((150,150), Image.NEAREST)\n"
     ]
    },
    {
     "data": {
      "text/plain": [
       "{'dragon': '0.82448506'}"
      ]
     },
     "execution_count": 29,
     "metadata": {},
     "output_type": "execute_result"
    }
   ],
   "source": [
    "predict(url)"
   ]
  },
  {
   "cell_type": "code",
   "execution_count": null,
   "id": "189d76c6",
   "metadata": {},
   "outputs": [],
   "source": []
  }
 ],
 "metadata": {
  "kernelspec": {
   "display_name": "Python 3 (ipykernel)",
   "language": "python",
   "name": "python3"
  },
  "language_info": {
   "codemirror_mode": {
    "name": "ipython",
    "version": 3
   },
   "file_extension": ".py",
   "mimetype": "text/x-python",
   "name": "python",
   "nbconvert_exporter": "python",
   "pygments_lexer": "ipython3",
   "version": "3.9.12"
  }
 },
 "nbformat": 4,
 "nbformat_minor": 5
}

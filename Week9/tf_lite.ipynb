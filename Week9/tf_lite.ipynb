{
 "cells": [
  {
   "cell_type": "code",
   "execution_count": 1,
   "id": "2cfee63f",
   "metadata": {},
   "outputs": [
    {
     "data": {
      "application/javascript": [
       "IPython.notebook.set_autosave_interval(0)"
      ]
     },
     "metadata": {},
     "output_type": "display_data"
    },
    {
     "name": "stdout",
     "output_type": "stream",
     "text": [
      "Autosave disabled\n"
     ]
    }
   ],
   "source": [
    "%autosave 0"
   ]
  },
  {
   "cell_type": "code",
   "execution_count": 2,
   "id": "276bd7a5",
   "metadata": {},
   "outputs": [],
   "source": [
    "import tensorflow as tf\n",
    "from tensorflow import keras"
   ]
  },
  {
   "cell_type": "code",
   "execution_count": 12,
   "id": "da6ef8df",
   "metadata": {},
   "outputs": [],
   "source": [
    "# !wget https://github.com/alexeygrigorev/mlbookcamp-code/releases/download/chapter7-model/xception_v4_large_08_0.894.h5 -O clothing_model.h5\n",
    "\n",
    "# !wget https://bit.ly/mlbookcamp-pants -O pant.jpg"
   ]
  },
  {
   "cell_type": "code",
   "execution_count": 9,
   "id": "32664812",
   "metadata": {},
   "outputs": [
    {
     "name": "stderr",
     "output_type": "stream",
     "text": [
      "2022-12-19 14:37:27.467964: I tensorflow/compiler/jit/xla_cpu_device.cc:41] Not creating XLA devices, tf_xla_enable_xla_devices not set\n",
      "2022-12-19 14:37:27.471705: I tensorflow/core/platform/cpu_feature_guard.cc:142] This TensorFlow binary is optimized with oneAPI Deep Neural Network Library (oneDNN) to use the following CPU instructions in performance-critical operations:  SSE4.1 SSE4.2 AVX AVX2 FMA\n",
      "To enable them in other operations, rebuild TensorFlow with the appropriate compiler flags.\n",
      "2022-12-19 14:37:27.484668: I tensorflow/core/common_runtime/process_util.cc:146] Creating new thread pool with default inter op setting: 2. Tune using inter_op_parallelism_threads for best performance.\n"
     ]
    }
   ],
   "source": [
    "model = keras.models.load_model(\"clothing_model.h5\")"
   ]
  },
  {
   "cell_type": "code",
   "execution_count": 18,
   "id": "11558d45",
   "metadata": {},
   "outputs": [],
   "source": [
    "from tensorflow.keras.preprocessing.image import load_img\n",
    "from tensorflow.keras.applications.xception import preprocess_input\n",
    "import numpy as np"
   ]
  },
  {
   "cell_type": "code",
   "execution_count": 17,
   "id": "4bf8a3c3",
   "metadata": {},
   "outputs": [],
   "source": [
    "img = load_img(\"pant.jpg\", target_size = (299,299))"
   ]
  },
  {
   "cell_type": "code",
   "execution_count": 19,
   "id": "afdc336e",
   "metadata": {},
   "outputs": [],
   "source": [
    "x = np.array(img)\n",
    "X = np.array([x])\n",
    "\n",
    "X = preprocess_input(X)"
   ]
  },
  {
   "cell_type": "code",
   "execution_count": 20,
   "id": "199796cf",
   "metadata": {},
   "outputs": [
    {
     "name": "stderr",
     "output_type": "stream",
     "text": [
      "2022-12-19 14:48:28.471687: I tensorflow/compiler/mlir/mlir_graph_optimization_pass.cc:116] None of the MLIR optimization passes are enabled (registered 2)\n",
      "2022-12-19 14:48:28.503610: I tensorflow/core/platform/profile_utils/cpu_utils.cc:112] CPU Frequency: 1799995000 Hz\n"
     ]
    }
   ],
   "source": [
    "preds = model.predict(X)"
   ]
  },
  {
   "cell_type": "code",
   "execution_count": 21,
   "id": "06fd2524",
   "metadata": {},
   "outputs": [],
   "source": [
    "classes = [\n",
    "    'dress',\n",
    "    'hat',\n",
    "    'longsleeve',\n",
    "    'outwear',\n",
    "    'pants',\n",
    "    'shirt',\n",
    "    'shoes',\n",
    "    'shorts',\n",
    "    'skirt',\n",
    "    't-shirt'\n",
    "]"
   ]
  },
  {
   "cell_type": "code",
   "execution_count": 23,
   "id": "545de5f1",
   "metadata": {},
   "outputs": [
    {
     "data": {
      "text/plain": [
       "{'dress': -1.8798621,\n",
       " 'hat': -4.7563095,\n",
       " 'longsleeve': -2.359534,\n",
       " 'outwear': -1.0892645,\n",
       " 'pants': 9.903782,\n",
       " 'shirt': -2.8261788,\n",
       " 'shoes': -3.648309,\n",
       " 'shorts': 3.2411528,\n",
       " 'skirt': -2.612095,\n",
       " 't-shirt': -4.852034}"
      ]
     },
     "execution_count": 23,
     "metadata": {},
     "output_type": "execute_result"
    }
   ],
   "source": [
    "dict(zip(classes,preds[0]))"
   ]
  },
  {
   "cell_type": "markdown",
   "id": "5f50e6d9",
   "metadata": {},
   "source": [
    "# Convert Keras to TF-Lite"
   ]
  },
  {
   "cell_type": "code",
   "execution_count": 25,
   "id": "9145d2b8",
   "metadata": {},
   "outputs": [
    {
     "name": "stdout",
     "output_type": "stream",
     "text": [
      "INFO:tensorflow:Assets written to: /tmp/tmprhz85xy5/assets\n"
     ]
    },
    {
     "name": "stderr",
     "output_type": "stream",
     "text": [
      "INFO:tensorflow:Assets written to: /tmp/tmprhz85xy5/assets\n",
      "2022-12-19 14:51:54.797022: I tensorflow/core/grappler/devices.cc:78] Number of eligible GPUs (core count >= 8, compute capability >= 0.0): 0 (Note: TensorFlow was not compiled with CUDA or ROCm support)\n",
      "2022-12-19 14:51:54.797407: I tensorflow/core/grappler/clusters/single_machine.cc:356] Starting new session\n",
      "2022-12-19 14:51:54.812808: I tensorflow/core/grappler/optimizers/meta_optimizer.cc:928] Optimization results for grappler item: graph_to_optimize\n",
      "  function_optimizer: function_optimizer did nothing. time = 0.003ms.\n",
      "  function_optimizer: function_optimizer did nothing. time = 0.001ms.\n",
      "\n",
      "2022-12-19 14:51:56.803763: W tensorflow/compiler/mlir/lite/python/tf_tfl_flatbuffer_helpers.cc:316] Ignored output_format.\n",
      "2022-12-19 14:51:56.803846: W tensorflow/compiler/mlir/lite/python/tf_tfl_flatbuffer_helpers.cc:319] Ignored drop_control_dependency.\n"
     ]
    }
   ],
   "source": [
    "converter = tf.lite.TFLiteConverter.from_keras_model(model)\n",
    "tflite_model = converter.convert()\n",
    "\n",
    "with open('clothing_model.tflite', 'wb') as f_out:\n",
    "    f_out.write(tflite_model)"
   ]
  },
  {
   "cell_type": "code",
   "execution_count": 28,
   "id": "93038a31",
   "metadata": {},
   "outputs": [],
   "source": [
    "import tensorflow.lite as tflite"
   ]
  },
  {
   "cell_type": "code",
   "execution_count": 30,
   "id": "d17019a2",
   "metadata": {},
   "outputs": [],
   "source": [
    "interpreter = tflite.Interpreter(model_path = 'clothing_model.tflite')\n",
    "interpreter.allocate_tensors()"
   ]
  },
  {
   "cell_type": "code",
   "execution_count": 34,
   "id": "7da18c59",
   "metadata": {},
   "outputs": [],
   "source": [
    "input_index = interpreter.get_input_details()[0]['index']\n",
    "output_index = interpreter.get_output_details()[0]['index']"
   ]
  },
  {
   "cell_type": "code",
   "execution_count": 36,
   "id": "b95a37cf",
   "metadata": {},
   "outputs": [],
   "source": [
    "interpreter.set_tensor(input_index, X)\n",
    "interpreter.invoke()"
   ]
  },
  {
   "cell_type": "code",
   "execution_count": 38,
   "id": "60577f98",
   "metadata": {},
   "outputs": [],
   "source": [
    "tf_preds = interpreter.get_tensor(output_index)"
   ]
  },
  {
   "cell_type": "code",
   "execution_count": 39,
   "id": "b91114de",
   "metadata": {},
   "outputs": [
    {
     "data": {
      "text/plain": [
       "{'dress': -1.8798645,\n",
       " 'hat': -4.756309,\n",
       " 'longsleeve': -2.3595347,\n",
       " 'outwear': -1.0892642,\n",
       " 'pants': 9.903783,\n",
       " 'shirt': -2.8261802,\n",
       " 'shoes': -3.6483088,\n",
       " 'shorts': 3.241155,\n",
       " 'skirt': -2.6120963,\n",
       " 't-shirt': -4.8520355}"
      ]
     },
     "execution_count": 39,
     "metadata": {},
     "output_type": "execute_result"
    }
   ],
   "source": [
    "dict(zip(classes,tf_preds[0]))"
   ]
  },
  {
   "cell_type": "markdown",
   "id": "90e9fbc6",
   "metadata": {},
   "source": [
    "# Removing TF dependancy"
   ]
  },
  {
   "cell_type": "code",
   "execution_count": 60,
   "id": "a01862da",
   "metadata": {},
   "outputs": [],
   "source": [
    "#!python3 -m pip install tflite-runtime"
   ]
  },
  {
   "cell_type": "code",
   "execution_count": 80,
   "id": "800645da",
   "metadata": {},
   "outputs": [],
   "source": [
    "from PIL import Image\n",
    "import tflite_runtime.interpreter as tflite\n",
    "\n",
    "def preprocess_manual(x):\n",
    "    x /= 127.5\n",
    "    x -= 1.\n",
    "    \n",
    "    return x"
   ]
  },
  {
   "cell_type": "code",
   "execution_count": 81,
   "id": "c5e6b683",
   "metadata": {},
   "outputs": [
    {
     "name": "stderr",
     "output_type": "stream",
     "text": [
      "/tmp/ipykernel_299/2370253096.py:6: DeprecationWarning: NEAREST is deprecated and will be removed in Pillow 10 (2023-07-01). Use Resampling.NEAREST or Dither.NONE instead.\n",
      "  img = img.resize((299,299), Image.NEAREST)\n"
     ]
    }
   ],
   "source": [
    "import requests\n",
    "from io import BytesIO\n",
    "\n",
    "response = requests.get(url)\n",
    "with Image.open(BytesIO(response.content)) as img:\n",
    "    img = img.resize((299,299), Image.NEAREST)"
   ]
  },
  {
   "cell_type": "code",
   "execution_count": 82,
   "id": "c3b93257",
   "metadata": {},
   "outputs": [],
   "source": [
    "url = 'https://bit.ly/mlbookcamp-pants'"
   ]
  },
  {
   "cell_type": "code",
   "execution_count": 83,
   "id": "7e36b539",
   "metadata": {},
   "outputs": [],
   "source": [
    "x = np.array(img, dtype = 'float32')\n",
    "X = np.array([x])\n",
    "\n",
    "X = preprocess_manual(X)"
   ]
  },
  {
   "cell_type": "code",
   "execution_count": 84,
   "id": "96e0a695",
   "metadata": {},
   "outputs": [],
   "source": [
    "interpreter = tflite.Interpreter(model_path = 'clothing_model.tflite')\n",
    "interpreter.allocate_tensors()\n",
    "\n",
    "input_index = interpreter.get_input_details()[0]['index']\n",
    "output_index = interpreter.get_output_details()[0]['index']\n",
    "\n",
    "interpreter.set_tensor(input_index, X)\n",
    "interpreter.invoke()"
   ]
  },
  {
   "cell_type": "code",
   "execution_count": 85,
   "id": "e93b7935",
   "metadata": {},
   "outputs": [
    {
     "data": {
      "text/plain": [
       "{'dress': -1.8798653,\n",
       " 'hat': -4.7563086,\n",
       " 'longsleeve': -2.3595326,\n",
       " 'outwear': -1.0892627,\n",
       " 'pants': 9.903783,\n",
       " 'shirt': -2.8261797,\n",
       " 'shoes': -3.648309,\n",
       " 'shorts': 3.2411575,\n",
       " 'skirt': -2.6120954,\n",
       " 't-shirt': -4.8520327}"
      ]
     },
     "execution_count": 85,
     "metadata": {},
     "output_type": "execute_result"
    }
   ],
   "source": [
    "tf_preds = interpreter.get_tensor(output_index)\n",
    "\n",
    "dict(zip(classes,tf_preds[0]))"
   ]
  },
  {
   "cell_type": "code",
   "execution_count": null,
   "id": "5f6c2718",
   "metadata": {},
   "outputs": [],
   "source": []
  }
 ],
 "metadata": {
  "kernelspec": {
   "display_name": "Python 3 (ipykernel)",
   "language": "python",
   "name": "python3"
  },
  "language_info": {
   "codemirror_mode": {
    "name": "ipython",
    "version": 3
   },
   "file_extension": ".py",
   "mimetype": "text/x-python",
   "name": "python",
   "nbconvert_exporter": "python",
   "pygments_lexer": "ipython3",
   "version": "3.9.12"
  }
 },
 "nbformat": 4,
 "nbformat_minor": 5
}

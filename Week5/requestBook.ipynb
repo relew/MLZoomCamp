{
 "cells": [
  {
   "cell_type": "code",
   "execution_count": 1,
   "id": "a03df9ba",
   "metadata": {},
   "outputs": [],
   "source": [
    "url = 'http://localhost:9696/predict'"
   ]
  },
  {
   "cell_type": "code",
   "execution_count": 2,
   "id": "48fe3e50",
   "metadata": {},
   "outputs": [],
   "source": [
    "import requests"
   ]
  },
  {
   "cell_type": "code",
   "execution_count": 29,
   "id": "04de39ee",
   "metadata": {},
   "outputs": [],
   "source": [
    "clientQ3 = {\"reports\": 0,\n",
    "          \"share\": 0.001694,\n",
    "          \"expenditure\": 0.12,\n",
    "          \"owner\": \"yes\"}"
   ]
  },
  {
   "cell_type": "code",
   "execution_count": 30,
   "id": "721b73aa",
   "metadata": {},
   "outputs": [],
   "source": [
    "clientQ4 = {\"reports\": 0,\n",
    "           \"share\": 0.245,\n",
    "           \"expenditure\": 3.438,\n",
    "           \"owner\": \"yes\"}"
   ]
  },
  {
   "cell_type": "code",
   "execution_count": 3,
   "id": "432c85d9",
   "metadata": {},
   "outputs": [],
   "source": [
    "clientQ6 = {\"reports\": 0,\n",
    "           \"share\": 0.245,\n",
    "           \"expenditure\": 3.438,\n",
    "           \"owner\": \"yes\"}"
   ]
  },
  {
   "cell_type": "code",
   "execution_count": 31,
   "id": "7143ef6c",
   "metadata": {},
   "outputs": [
    {
     "data": {
      "text/plain": [
       "{'hw_customer_churn_probablility': 0.16213414434326598}"
      ]
     },
     "execution_count": 31,
     "metadata": {},
     "output_type": "execute_result"
    }
   ],
   "source": [
    "requests.post(url, json=client).json()"
   ]
  },
  {
   "cell_type": "code",
   "execution_count": 32,
   "id": "da51b79e",
   "metadata": {},
   "outputs": [
    {
     "data": {
      "text/plain": [
       "{'hw_customer_churn_probablility': 0.9282218018527452}"
      ]
     },
     "execution_count": 32,
     "metadata": {},
     "output_type": "execute_result"
    }
   ],
   "source": [
    "requests.post(url, json=client2).json()"
   ]
  },
  {
   "cell_type": "code",
   "execution_count": 4,
   "id": "97b3fc50",
   "metadata": {},
   "outputs": [
    {
     "data": {
      "text/plain": [
       "{'hw_customer_churn_probablility': 0.9282218018527452}"
      ]
     },
     "execution_count": 4,
     "metadata": {},
     "output_type": "execute_result"
    }
   ],
   "source": [
    "requests.post(url, json=clientQ6).json()"
   ]
  },
  {
   "cell_type": "code",
   "execution_count": null,
   "id": "fcb2b304",
   "metadata": {},
   "outputs": [],
   "source": []
  }
 ],
 "metadata": {
  "kernelspec": {
   "display_name": "Python 3 (ipykernel)",
   "language": "python",
   "name": "python3"
  },
  "language_info": {
   "codemirror_mode": {
    "name": "ipython",
    "version": 3
   },
   "file_extension": ".py",
   "mimetype": "text/x-python",
   "name": "python",
   "nbconvert_exporter": "python",
   "pygments_lexer": "ipython3",
   "version": "3.9.12"
  }
 },
 "nbformat": 4,
 "nbformat_minor": 5
}

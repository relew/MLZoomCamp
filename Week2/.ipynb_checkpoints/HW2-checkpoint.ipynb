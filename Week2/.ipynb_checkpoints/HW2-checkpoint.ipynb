{
 "cells": [
  {
   "cell_type": "code",
   "execution_count": 235,
   "id": "73adb4a1",
   "metadata": {},
   "outputs": [],
   "source": [
    "import pandas as pd\n",
    "import numpy as np\n",
    "import matplotlib.pyplot as plt\n",
    "import seaborn as sns\n",
    "\n",
    "%matplotlib inline"
   ]
  },
  {
   "cell_type": "code",
   "execution_count": 236,
   "id": "c857b095",
   "metadata": {},
   "outputs": [],
   "source": [
    "# data = 'wget https://raw.githubusercontent.com/alexeygrigorev/datasets/master/housing.csv'\n",
    "# !wget $data"
   ]
  },
  {
   "cell_type": "code",
   "execution_count": 237,
   "id": "68befee2",
   "metadata": {},
   "outputs": [
    {
     "data": {
      "text/html": [
       "<div>\n",
       "<style scoped>\n",
       "    .dataframe tbody tr th:only-of-type {\n",
       "        vertical-align: middle;\n",
       "    }\n",
       "\n",
       "    .dataframe tbody tr th {\n",
       "        vertical-align: top;\n",
       "    }\n",
       "\n",
       "    .dataframe thead th {\n",
       "        text-align: right;\n",
       "    }\n",
       "</style>\n",
       "<table border=\"1\" class=\"dataframe\">\n",
       "  <thead>\n",
       "    <tr style=\"text-align: right;\">\n",
       "      <th></th>\n",
       "      <th>longitude</th>\n",
       "      <th>latitude</th>\n",
       "      <th>housing_median_age</th>\n",
       "      <th>total_rooms</th>\n",
       "      <th>total_bedrooms</th>\n",
       "      <th>population</th>\n",
       "      <th>households</th>\n",
       "      <th>median_income</th>\n",
       "      <th>median_house_value</th>\n",
       "    </tr>\n",
       "  </thead>\n",
       "  <tbody>\n",
       "    <tr>\n",
       "      <th>0</th>\n",
       "      <td>-122.23</td>\n",
       "      <td>37.88</td>\n",
       "      <td>41.0</td>\n",
       "      <td>880.0</td>\n",
       "      <td>129.0</td>\n",
       "      <td>322.0</td>\n",
       "      <td>126.0</td>\n",
       "      <td>8.3252</td>\n",
       "      <td>452600.0</td>\n",
       "    </tr>\n",
       "    <tr>\n",
       "      <th>1</th>\n",
       "      <td>-122.22</td>\n",
       "      <td>37.86</td>\n",
       "      <td>21.0</td>\n",
       "      <td>7099.0</td>\n",
       "      <td>1106.0</td>\n",
       "      <td>2401.0</td>\n",
       "      <td>1138.0</td>\n",
       "      <td>8.3014</td>\n",
       "      <td>358500.0</td>\n",
       "    </tr>\n",
       "    <tr>\n",
       "      <th>2</th>\n",
       "      <td>-122.24</td>\n",
       "      <td>37.85</td>\n",
       "      <td>52.0</td>\n",
       "      <td>1467.0</td>\n",
       "      <td>190.0</td>\n",
       "      <td>496.0</td>\n",
       "      <td>177.0</td>\n",
       "      <td>7.2574</td>\n",
       "      <td>352100.0</td>\n",
       "    </tr>\n",
       "    <tr>\n",
       "      <th>3</th>\n",
       "      <td>-122.25</td>\n",
       "      <td>37.85</td>\n",
       "      <td>52.0</td>\n",
       "      <td>1274.0</td>\n",
       "      <td>235.0</td>\n",
       "      <td>558.0</td>\n",
       "      <td>219.0</td>\n",
       "      <td>5.6431</td>\n",
       "      <td>341300.0</td>\n",
       "    </tr>\n",
       "    <tr>\n",
       "      <th>4</th>\n",
       "      <td>-122.25</td>\n",
       "      <td>37.85</td>\n",
       "      <td>52.0</td>\n",
       "      <td>1627.0</td>\n",
       "      <td>280.0</td>\n",
       "      <td>565.0</td>\n",
       "      <td>259.0</td>\n",
       "      <td>3.8462</td>\n",
       "      <td>342200.0</td>\n",
       "    </tr>\n",
       "  </tbody>\n",
       "</table>\n",
       "</div>"
      ],
      "text/plain": [
       "   longitude  latitude  housing_median_age  total_rooms  total_bedrooms  \\\n",
       "0    -122.23     37.88                41.0        880.0           129.0   \n",
       "1    -122.22     37.86                21.0       7099.0          1106.0   \n",
       "2    -122.24     37.85                52.0       1467.0           190.0   \n",
       "3    -122.25     37.85                52.0       1274.0           235.0   \n",
       "4    -122.25     37.85                52.0       1627.0           280.0   \n",
       "\n",
       "   population  households  median_income  median_house_value  \n",
       "0       322.0       126.0         8.3252            452600.0  \n",
       "1      2401.0      1138.0         8.3014            358500.0  \n",
       "2       496.0       177.0         7.2574            352100.0  \n",
       "3       558.0       219.0         5.6431            341300.0  \n",
       "4       565.0       259.0         3.8462            342200.0  "
      ]
     },
     "execution_count": 237,
     "metadata": {},
     "output_type": "execute_result"
    }
   ],
   "source": [
    "df = pd.read_csv(\"housing.csv\")\n",
    "del df['ocean_proximity']\n",
    "df.head()"
   ]
  },
  {
   "cell_type": "markdown",
   "id": "1aa16bf2",
   "metadata": {},
   "source": [
    "# Q1"
   ]
  },
  {
   "cell_type": "code",
   "execution_count": 218,
   "id": "3bba8d97",
   "metadata": {},
   "outputs": [
    {
     "data": {
      "text/plain": [
       "longitude               0\n",
       "latitude                0\n",
       "housing_median_age      0\n",
       "total_rooms             0\n",
       "total_bedrooms        207\n",
       "population              0\n",
       "households              0\n",
       "median_income           0\n",
       "median_house_value      0\n",
       "dtype: int64"
      ]
     },
     "execution_count": 218,
     "metadata": {},
     "output_type": "execute_result"
    }
   ],
   "source": [
    "df.isnull().sum()"
   ]
  },
  {
   "cell_type": "markdown",
   "id": "c9c1071f",
   "metadata": {},
   "source": [
    "# Q2"
   ]
  },
  {
   "cell_type": "code",
   "execution_count": 219,
   "id": "cea6ac1a",
   "metadata": {},
   "outputs": [
    {
     "data": {
      "text/plain": [
       "1166.0"
      ]
     },
     "execution_count": 219,
     "metadata": {},
     "output_type": "execute_result"
    }
   ],
   "source": [
    "df.population.median()"
   ]
  },
  {
   "cell_type": "code",
   "execution_count": 220,
   "id": "3cd39715",
   "metadata": {},
   "outputs": [],
   "source": [
    "np.random.seed(42)\n",
    "df_len =len(df)\n",
    "idx = np.arange(df_len)\n",
    "np.random.shuffle(idx)\n",
    "df = df.iloc[idx]\n",
    "\n",
    "df_train = df.iloc[:int(df_len * 0.6)]\n",
    "df_val = df.iloc[int(df_len * 0.6):int(df_len * 0.8)]\n",
    "df_test = df.iloc[int(df_len * 0.8):]\n",
    "\n",
    "y_train = np.log1p(df_train.median_house_value.values)\n",
    "y_val = np.log1p(df_val.median_house_value.values)\n",
    "y_test = np.log1p(df_test.median_house_value.values)\n",
    "\n",
    "del df_train['median_house_value']\n",
    "del df_val['median_house_value']\n",
    "del df_test['median_house_value']"
   ]
  },
  {
   "cell_type": "markdown",
   "id": "4010f9d3",
   "metadata": {},
   "source": [
    "# Q3"
   ]
  },
  {
   "cell_type": "code",
   "execution_count": 205,
   "id": "30d81a8a",
   "metadata": {},
   "outputs": [
    {
     "name": "stdout",
     "output_type": "stream",
     "text": [
      "training mean: 533.4803317730147\n"
     ]
    }
   ],
   "source": [
    "mean= df_train.total_bedrooms.mean()\n",
    "print(\"training mean:\", mean)\n",
    "\n",
    "def train_linear_regression(X,y):\n",
    "    \n",
    "    ones = np.ones(X.shape[0])\n",
    "    X = np.column_stack([ones,X])\n",
    "    \n",
    "    XTX = X.T.dot(X)\n",
    "    XTX_inv = np.linalg.inv(XTX)\n",
    "    w_full = XTX_inv.dot(X.T).dot(y)\n",
    "    \n",
    "    return w_full[0],w_full[1:]\n",
    "\n",
    "def RMSE(y_pred,y_train):\n",
    "    \n",
    "    n = len(y_pred)\n",
    "    rmse = 0\n",
    "    \n",
    "    for i in range(n):\n",
    "        \n",
    "        rmse = rmse + (y_pred[i] - y_train[i])**2\n",
    "        \n",
    "    return np.sqrt(rmse/n)"
   ]
  },
  {
   "cell_type": "code",
   "execution_count": 208,
   "id": "a94c43dc",
   "metadata": {},
   "outputs": [
    {
     "name": "stdout",
     "output_type": "stream",
     "text": [
      "0 0.33\n",
      "533.4803317730147 0.33\n"
     ]
    }
   ],
   "source": [
    "for fill in [0,mean]:\n",
    "    df_train_try = df_train.copy()\n",
    "    df_val_try = df_val.copy()\n",
    "\n",
    "    #print(df_train_try.isnull().sum())\n",
    "    df_train_try['total_bedrooms'] = df_train_try['total_bedrooms'].fillna(fill)\n",
    "    df_val_try['total_bedrooms'] = df_val_try['total_bedrooms'].fillna(fill)\n",
    "\n",
    "    X_train = df_train_try.values\n",
    "    X_val = df_val_try.values\n",
    "    \n",
    "    w0, w = train_linear_regression(X_train,y_train)\n",
    "    \n",
    "    y_pred = w0 + X_val.dot(w)\n",
    "\n",
    "    rmse = np.round(RMSE(y_pred,y_val),2)\n",
    "    print(fill, rmse)"
   ]
  },
  {
   "cell_type": "markdown",
   "id": "0e3ad6ed",
   "metadata": {},
   "source": [
    "# Q4"
   ]
  },
  {
   "cell_type": "code",
   "execution_count": 223,
   "id": "3426ca3b",
   "metadata": {},
   "outputs": [],
   "source": [
    "def train_linear_regression_reg(X,y, r = 0.01):\n",
    "    ones = np.ones(X.shape[0])\n",
    "    X = np.column_stack([ones,X])\n",
    "    \n",
    "    XTX = X.T.dot(X)\n",
    "    XTX = XTX + r * np.eye(XTX.shape[0])\n",
    "    \n",
    "    XTX_inv = np.linalg.inv(XTX)\n",
    "    w_full = XTX_inv.dot(X.T).dot(y)\n",
    "    \n",
    "    return w_full[0],w_full[1:]\n",
    "\n",
    "def RMSE(y_pred,y_train):\n",
    "    \n",
    "    n = len(y_pred)\n",
    "    rmse = 0\n",
    "    \n",
    "    for i in range(n):\n",
    "        \n",
    "        rmse = rmse + (y_pred[i] - y_train[i])**2\n",
    "        \n",
    "    return np.sqrt(rmse/n)"
   ]
  },
  {
   "cell_type": "code",
   "execution_count": 224,
   "id": "e0b6749b",
   "metadata": {},
   "outputs": [
    {
     "name": "stderr",
     "output_type": "stream",
     "text": [
      "C:\\Users\\rolly\\AppData\\Local\\Temp\\ipykernel_19732\\2182539139.py:1: SettingWithCopyWarning: \n",
      "A value is trying to be set on a copy of a slice from a DataFrame.\n",
      "Try using .loc[row_indexer,col_indexer] = value instead\n",
      "\n",
      "See the caveats in the documentation: https://pandas.pydata.org/pandas-docs/stable/user_guide/indexing.html#returning-a-view-versus-a-copy\n",
      "  df_train['total_bedrooms'] = df_train['total_bedrooms'].fillna(0)\n",
      "C:\\Users\\rolly\\AppData\\Local\\Temp\\ipykernel_19732\\2182539139.py:2: SettingWithCopyWarning: \n",
      "A value is trying to be set on a copy of a slice from a DataFrame.\n",
      "Try using .loc[row_indexer,col_indexer] = value instead\n",
      "\n",
      "See the caveats in the documentation: https://pandas.pydata.org/pandas-docs/stable/user_guide/indexing.html#returning-a-view-versus-a-copy\n",
      "  df_val['total_bedrooms'] = df_val['total_bedrooms'].fillna(0)\n"
     ]
    }
   ],
   "source": [
    "df_train['total_bedrooms'] = df_train['total_bedrooms'].fillna(0)\n",
    "df_val['total_bedrooms'] = df_val['total_bedrooms'].fillna(0)\n",
    "\n",
    "X_train = df_train.values\n",
    "X_val = df_val.values"
   ]
  },
  {
   "cell_type": "code",
   "execution_count": 225,
   "id": "4b2658c3",
   "metadata": {},
   "outputs": [
    {
     "name": "stdout",
     "output_type": "stream",
     "text": [
      "0 0.33\n",
      "1e-06 0.33\n",
      "0.0001 0.33\n",
      "0.001 0.33\n",
      "0.01 0.33\n",
      "0.1 0.33\n",
      "1 0.33\n",
      "5 0.34\n",
      "10 0.34\n"
     ]
    }
   ],
   "source": [
    "for r in [0, 0.000001, 0.0001, 0.001, 0.01, 0.1, 1, 5, 10]:\n",
    "    \n",
    "    w0, w = train_linear_regression_reg(X_train,y_train,r)\n",
    "    y_pred = w0 + X_val.dot(w)\n",
    "    rmse = np.round(RMSE(y_pred,y_val),2)\n",
    "    print(r, rmse)"
   ]
  },
  {
   "cell_type": "markdown",
   "id": "f936c68d",
   "metadata": {},
   "source": [
    "# Q5"
   ]
  },
  {
   "cell_type": "code",
   "execution_count": 226,
   "id": "e2930bf5",
   "metadata": {},
   "outputs": [],
   "source": [
    "def train_linear_regression(X,y):\n",
    "    \n",
    "    ones = np.ones(X.shape[0])\n",
    "    X = np.column_stack([ones,X])\n",
    "    \n",
    "    XTX = X.T.dot(X)\n",
    "    XTX_inv = np.linalg.inv(XTX)\n",
    "    w_full = XTX_inv.dot(X.T).dot(y)\n",
    "    \n",
    "    return w_full[0],w_full[1:]\n",
    "\n",
    "def RMSE(y_pred,y_train):\n",
    "    \n",
    "    n = len(y_pred)\n",
    "    rmse = 0\n",
    "    \n",
    "    for i in range(n):\n",
    "        \n",
    "        rmse = rmse + (y_pred[i] - y_train[i])**2\n",
    "        \n",
    "    return np.sqrt(rmse/n)"
   ]
  },
  {
   "cell_type": "code",
   "execution_count": 232,
   "id": "5859df73",
   "metadata": {},
   "outputs": [
    {
     "name": "stderr",
     "output_type": "stream",
     "text": [
      "C:\\Users\\rolly\\AppData\\Local\\Temp\\ipykernel_19732\\1384729667.py:23: SettingWithCopyWarning: \n",
      "A value is trying to be set on a copy of a slice from a DataFrame.\n",
      "Try using .loc[row_indexer,col_indexer] = value instead\n",
      "\n",
      "See the caveats in the documentation: https://pandas.pydata.org/pandas-docs/stable/user_guide/indexing.html#returning-a-view-versus-a-copy\n",
      "  df_train['total_bedrooms'] = df_train['total_bedrooms'].fillna(0)\n",
      "C:\\Users\\rolly\\AppData\\Local\\Temp\\ipykernel_19732\\1384729667.py:24: SettingWithCopyWarning: \n",
      "A value is trying to be set on a copy of a slice from a DataFrame.\n",
      "Try using .loc[row_indexer,col_indexer] = value instead\n",
      "\n",
      "See the caveats in the documentation: https://pandas.pydata.org/pandas-docs/stable/user_guide/indexing.html#returning-a-view-versus-a-copy\n",
      "  df_val['total_bedrooms'] = df_val['total_bedrooms'].fillna(0)\n"
     ]
    },
    {
     "name": "stdout",
     "output_type": "stream",
     "text": [
      "0 0.347133286436073\n",
      "1 0.3375557874472056\n",
      "2 0.34221569079729636\n",
      "3 0.3415344544797574\n",
      "4 0.34451363462199547\n",
      "5 0.3353223532232082\n",
      "6 0.34169862135320883\n",
      "7 0.342397808056458\n",
      "8 0.33443726480293945\n",
      "9 0.3375691470986831\n"
     ]
    }
   ],
   "source": [
    "scores = []\n",
    "\n",
    "for seed in [0, 1, 2, 3, 4, 5, 6, 7, 8, 9]:\n",
    "    \n",
    "    np.random.seed(seed)\n",
    "    df_len =len(df)\n",
    "    idx = np.arange(df_len)\n",
    "    np.random.shuffle(idx)\n",
    "    df = df.iloc[idx]\n",
    "\n",
    "    df_train = df.iloc[:int(df_len * 0.6)]\n",
    "    df_val = df.iloc[int(df_len * 0.6):int(df_len * 0.8)]\n",
    "    df_test = df.iloc[int(df_len * 0.8):]\n",
    "\n",
    "    y_train = np.log1p(df_train.median_house_value.values)\n",
    "    y_val = np.log1p(df_val.median_house_value.values)\n",
    "    y_test = np.log1p(df_test.median_house_value.values)\n",
    "\n",
    "    del df_train['median_house_value']\n",
    "    del df_val['median_house_value']\n",
    "    del df_test['median_house_value']\n",
    "    \n",
    "    df_train['total_bedrooms'] = df_train['total_bedrooms'].fillna(0)\n",
    "    df_val['total_bedrooms'] = df_val['total_bedrooms'].fillna(0)\n",
    "\n",
    "    X_train = df_train.values\n",
    "    X_val = df_val.values\n",
    "    \n",
    "    w0, w = train_linear_regression(X_train,y_train)\n",
    "    y_pred = w0 + X_val.dot(w)\n",
    "    rmse = RMSE(y_pred,y_val)\n",
    "    scores.append(rmse)\n",
    "    print(seed, rmse)"
   ]
  },
  {
   "cell_type": "code",
   "execution_count": 233,
   "id": "5cd34004",
   "metadata": {},
   "outputs": [
    {
     "data": {
      "text/plain": [
       "0.004"
      ]
     },
     "execution_count": 233,
     "metadata": {},
     "output_type": "execute_result"
    }
   ],
   "source": [
    "np.round(np.std(scores),3)"
   ]
  },
  {
   "cell_type": "markdown",
   "id": "38f377b1",
   "metadata": {},
   "source": [
    "# Q6"
   ]
  },
  {
   "cell_type": "code",
   "execution_count": 238,
   "id": "964cf470",
   "metadata": {},
   "outputs": [],
   "source": [
    "def train_linear_regression_reg(X,y, r = 0.01):\n",
    "    ones = np.ones(X.shape[0])\n",
    "    X = np.column_stack([ones,X])\n",
    "    \n",
    "    XTX = X.T.dot(X)\n",
    "    XTX = XTX + r * np.eye(XTX.shape[0])\n",
    "    \n",
    "    XTX_inv = np.linalg.inv(XTX)\n",
    "    w_full = XTX_inv.dot(X.T).dot(y)\n",
    "    \n",
    "    return w_full[0],w_full[1:]\n",
    "\n",
    "def RMSE(y_pred,y_train):\n",
    "    \n",
    "    n = len(y_pred)\n",
    "    rmse = 0\n",
    "    \n",
    "    for i in range(n):\n",
    "        \n",
    "        rmse = rmse + (y_pred[i] - y_train[i])**2\n",
    "        \n",
    "    return np.sqrt(rmse/n)"
   ]
  },
  {
   "cell_type": "code",
   "execution_count": 239,
   "id": "391642b8",
   "metadata": {},
   "outputs": [],
   "source": [
    "np.random.seed(9)\n",
    "df_len =len(df)\n",
    "idx = np.arange(df_len)\n",
    "np.random.shuffle(idx)\n",
    "df = df.iloc[idx]\n",
    "\n",
    "df_train = df.iloc[:int(df_len * 0.6)]\n",
    "df_val = df.iloc[int(df_len * 0.6):int(df_len * 0.8)]\n",
    "df_test = df.iloc[int(df_len * 0.8):]\n",
    "\n",
    "y_train = np.log1p(df_train.median_house_value.values)\n",
    "y_val = np.log1p(df_val.median_house_value.values)\n",
    "y_test = np.log1p(df_test.median_house_value.values)\n",
    "\n",
    "del df_train['median_house_value']\n",
    "del df_val['median_house_value']\n",
    "del df_test['median_house_value']"
   ]
  },
  {
   "cell_type": "code",
   "execution_count": 240,
   "id": "e6effce4",
   "metadata": {},
   "outputs": [
    {
     "name": "stderr",
     "output_type": "stream",
     "text": [
      "C:\\Users\\rolly\\AppData\\Local\\Temp\\ipykernel_19732\\3364852105.py:4: SettingWithCopyWarning: \n",
      "A value is trying to be set on a copy of a slice from a DataFrame.\n",
      "Try using .loc[row_indexer,col_indexer] = value instead\n",
      "\n",
      "See the caveats in the documentation: https://pandas.pydata.org/pandas-docs/stable/user_guide/indexing.html#returning-a-view-versus-a-copy\n",
      "  df_test['total_bedrooms'] = df_test['total_bedrooms'].fillna(0)\n"
     ]
    }
   ],
   "source": [
    "df_full_train = pd.concat([df_train,df_val])\n",
    "df_full_train = df_full_train.reset_index(drop = True)\n",
    "df_full_train['total_bedrooms'] = df_full_train['total_bedrooms'].fillna(0)\n",
    "df_test['total_bedrooms'] = df_test['total_bedrooms'].fillna(0)\n",
    "y_full_train = np.concatenate([y_train,y_val])\n",
    "\n",
    "\n",
    "X_full_train = df_full_train.values\n",
    "X_test = df_test.values"
   ]
  },
  {
   "cell_type": "code",
   "execution_count": 241,
   "id": "d2bdbb8d",
   "metadata": {},
   "outputs": [
    {
     "data": {
      "text/plain": [
       "0.345316891437892"
      ]
     },
     "execution_count": 241,
     "metadata": {},
     "output_type": "execute_result"
    }
   ],
   "source": [
    "r = 0.001\n",
    "w0, w = train_linear_regression_reg(X_full_train,y_full_train,r)\n",
    "y_pred = w0 + X_test.dot(w)\n",
    "rmse = RMSE(y_pred,y_test)\n",
    "rmse"
   ]
  }
 ],
 "metadata": {
  "kernelspec": {
   "display_name": "Python 3 (ipykernel)",
   "language": "python",
   "name": "python3"
  },
  "language_info": {
   "codemirror_mode": {
    "name": "ipython",
    "version": 3
   },
   "file_extension": ".py",
   "mimetype": "text/x-python",
   "name": "python",
   "nbconvert_exporter": "python",
   "pygments_lexer": "ipython3",
   "version": "3.8.12"
  }
 },
 "nbformat": 4,
 "nbformat_minor": 5
}

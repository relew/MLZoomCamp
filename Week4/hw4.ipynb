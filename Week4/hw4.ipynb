{
 "cells": [
  {
   "cell_type": "code",
   "execution_count": 112,
   "id": "a81dc1cd",
   "metadata": {},
   "outputs": [],
   "source": [
    "import pandas as pd\n",
    "import numpy as np\n",
    "import matplotlib.pyplot as plt\n",
    "%matplotlib inline\n",
    "\n",
    "import warnings\n",
    "warnings.filterwarnings('ignore')"
   ]
  },
  {
   "cell_type": "code",
   "execution_count": 113,
   "id": "29009f26",
   "metadata": {},
   "outputs": [],
   "source": [
    "#!wget https://raw.githubusercontent.com/alexeygrigorev/datasets/master/AER_credit_card_data.csv"
   ]
  },
  {
   "cell_type": "code",
   "execution_count": 114,
   "id": "4184c76f",
   "metadata": {},
   "outputs": [
    {
     "data": {
      "text/html": [
       "<div>\n",
       "<style scoped>\n",
       "    .dataframe tbody tr th:only-of-type {\n",
       "        vertical-align: middle;\n",
       "    }\n",
       "\n",
       "    .dataframe tbody tr th {\n",
       "        vertical-align: top;\n",
       "    }\n",
       "\n",
       "    .dataframe thead th {\n",
       "        text-align: right;\n",
       "    }\n",
       "</style>\n",
       "<table border=\"1\" class=\"dataframe\">\n",
       "  <thead>\n",
       "    <tr style=\"text-align: right;\">\n",
       "      <th></th>\n",
       "      <th>card</th>\n",
       "      <th>reports</th>\n",
       "      <th>age</th>\n",
       "      <th>income</th>\n",
       "      <th>share</th>\n",
       "      <th>expenditure</th>\n",
       "      <th>owner</th>\n",
       "      <th>selfemp</th>\n",
       "      <th>dependents</th>\n",
       "      <th>months</th>\n",
       "      <th>majorcards</th>\n",
       "      <th>active</th>\n",
       "    </tr>\n",
       "  </thead>\n",
       "  <tbody>\n",
       "    <tr>\n",
       "      <th>0</th>\n",
       "      <td>1</td>\n",
       "      <td>0</td>\n",
       "      <td>37.66667</td>\n",
       "      <td>4.5200</td>\n",
       "      <td>0.033270</td>\n",
       "      <td>124.983300</td>\n",
       "      <td>yes</td>\n",
       "      <td>no</td>\n",
       "      <td>-3</td>\n",
       "      <td>54</td>\n",
       "      <td>1</td>\n",
       "      <td>12</td>\n",
       "    </tr>\n",
       "    <tr>\n",
       "      <th>1</th>\n",
       "      <td>1</td>\n",
       "      <td>0</td>\n",
       "      <td>33.25000</td>\n",
       "      <td>2.4200</td>\n",
       "      <td>0.005217</td>\n",
       "      <td>9.854167</td>\n",
       "      <td>no</td>\n",
       "      <td>no</td>\n",
       "      <td>-3</td>\n",
       "      <td>34</td>\n",
       "      <td>1</td>\n",
       "      <td>13</td>\n",
       "    </tr>\n",
       "    <tr>\n",
       "      <th>2</th>\n",
       "      <td>1</td>\n",
       "      <td>0</td>\n",
       "      <td>33.66667</td>\n",
       "      <td>4.5000</td>\n",
       "      <td>0.004156</td>\n",
       "      <td>15.000000</td>\n",
       "      <td>yes</td>\n",
       "      <td>no</td>\n",
       "      <td>-4</td>\n",
       "      <td>58</td>\n",
       "      <td>1</td>\n",
       "      <td>5</td>\n",
       "    </tr>\n",
       "    <tr>\n",
       "      <th>3</th>\n",
       "      <td>1</td>\n",
       "      <td>0</td>\n",
       "      <td>30.50000</td>\n",
       "      <td>2.5400</td>\n",
       "      <td>0.065214</td>\n",
       "      <td>137.869200</td>\n",
       "      <td>no</td>\n",
       "      <td>no</td>\n",
       "      <td>0</td>\n",
       "      <td>25</td>\n",
       "      <td>1</td>\n",
       "      <td>7</td>\n",
       "    </tr>\n",
       "    <tr>\n",
       "      <th>4</th>\n",
       "      <td>1</td>\n",
       "      <td>0</td>\n",
       "      <td>32.16667</td>\n",
       "      <td>9.7867</td>\n",
       "      <td>0.067051</td>\n",
       "      <td>546.503300</td>\n",
       "      <td>yes</td>\n",
       "      <td>no</td>\n",
       "      <td>-2</td>\n",
       "      <td>64</td>\n",
       "      <td>1</td>\n",
       "      <td>5</td>\n",
       "    </tr>\n",
       "  </tbody>\n",
       "</table>\n",
       "</div>"
      ],
      "text/plain": [
       "   card  reports       age  income     share  expenditure owner selfemp  \\\n",
       "0     1        0  37.66667  4.5200  0.033270   124.983300   yes      no   \n",
       "1     1        0  33.25000  2.4200  0.005217     9.854167    no      no   \n",
       "2     1        0  33.66667  4.5000  0.004156    15.000000   yes      no   \n",
       "3     1        0  30.50000  2.5400  0.065214   137.869200    no      no   \n",
       "4     1        0  32.16667  9.7867  0.067051   546.503300   yes      no   \n",
       "\n",
       "   dependents  months  majorcards  active  \n",
       "0          -3      54           1      12  \n",
       "1          -3      34           1      13  \n",
       "2          -4      58           1       5  \n",
       "3           0      25           1       7  \n",
       "4          -2      64           1       5  "
      ]
     },
     "execution_count": 114,
     "metadata": {},
     "output_type": "execute_result"
    }
   ],
   "source": [
    "df = pd.read_csv(\"AER_credit_card_data.csv\")\n",
    "df['card'] = (df['card'] == \"yes\").astype(int)\n",
    "df['reports'] = -df['reports']\n",
    "df['dependents'] = -df['dependents']\n",
    "df.head()"
   ]
  },
  {
   "cell_type": "code",
   "execution_count": 115,
   "id": "7a21922e",
   "metadata": {},
   "outputs": [],
   "source": [
    "from sklearn.model_selection import train_test_split\n",
    "df_full_train,df_test = train_test_split(df, test_size = 0.2, random_state=1)\n",
    "df_train,df_val = train_test_split(df_full_train, test_size = 0.25, random_state=1)"
   ]
  },
  {
   "cell_type": "code",
   "execution_count": 116,
   "id": "4ecc224f",
   "metadata": {},
   "outputs": [
    {
     "data": {
      "text/plain": [
       "(791, 264, 264)"
      ]
     },
     "execution_count": 116,
     "metadata": {},
     "output_type": "execute_result"
    }
   ],
   "source": [
    "len(df_train),len(df_val),len(df_test)"
   ]
  },
  {
   "cell_type": "markdown",
   "id": "57bb46df",
   "metadata": {},
   "source": [
    "# Q1"
   ]
  },
  {
   "cell_type": "code",
   "execution_count": 117,
   "id": "c99a91ad",
   "metadata": {},
   "outputs": [],
   "source": [
    "from sklearn.metrics import auc\n",
    "from sklearn.metrics import roc_curve\n",
    "from sklearn.metrics import roc_auc_score\n",
    "\n",
    "features = ['reports','dependents','active','share']"
   ]
  },
  {
   "cell_type": "code",
   "execution_count": 118,
   "id": "bcfaf867",
   "metadata": {},
   "outputs": [
    {
     "name": "stdout",
     "output_type": "stream",
     "text": [
      "reports feature auc is 0.717\n",
      "dependents feature auc is 0.533\n",
      "active feature auc is 0.604\n",
      "share feature auc is 0.989\n"
     ]
    },
    {
     "data": {
      "image/png": "[encoded data removed]",
      "text/plain": [
       "<Figure size 432x288 with 1 Axes>"
      ]
     },
     "metadata": {
      "needs_background": "light"
     },
     "output_type": "display_data"
    }
   ],
   "source": [
    "for col in features:\n",
    "    fpr,tpr,t = roc_curve(df_train.card,df_train[col])\n",
    "    plt.plot([0,1],[0,1],label =\"random\")\n",
    "    plt.plot(fpr, tpr,label =col)\n",
    "    plt.legend()\n",
    "    print('%s feature auc is %.3f' % (col,auc(fpr,tpr)))"
   ]
  },
  {
   "cell_type": "markdown",
   "id": "27d88709",
   "metadata": {},
   "source": [
    "# Q2"
   ]
  },
  {
   "cell_type": "code",
   "execution_count": 119,
   "id": "1af8b582",
   "metadata": {},
   "outputs": [],
   "source": [
    "from sklearn.feature_extraction import DictVectorizer\n",
    "from sklearn.linear_model import LogisticRegression"
   ]
  },
  {
   "cell_type": "code",
   "execution_count": 120,
   "id": "35b1282f",
   "metadata": {},
   "outputs": [],
   "source": [
    "def train(df_train,df_val, C = 1.0):\n",
    "    \n",
    "    dv = DictVectorizer(sparse=False)\n",
    "    train_dict = df_train.iloc[:,df_train.columns!='card'].to_dict(orient = 'records')\n",
    "    val_dict = df_val.iloc[:,df_val.columns!='card'].to_dict(orient = 'records')\n",
    "\n",
    "    \n",
    "    X_train = dv.fit_transform(train_dict)\n",
    "    X_val = dv.fit_transform(val_dict)\n",
    "\n",
    "    y_train = df_train.card\n",
    "    y_val = df_val.card\n",
    "    \n",
    "    model = LogisticRegression(solver='liblinear', C=C, max_iter=1000)\n",
    "    model.fit(X_train,y_train)\n",
    "    \n",
    "    y_pred = model.predict_proba(X_val)\n",
    "        \n",
    "    return y_val, y_pred"
   ]
  },
  {
   "cell_type": "code",
   "execution_count": 121,
   "id": "cb9fdedd",
   "metadata": {},
   "outputs": [],
   "source": [
    "y_val,y_pred = train(df_train,df_val)"
   ]
  },
  {
   "cell_type": "code",
   "execution_count": 122,
   "id": "2fa037c3",
   "metadata": {},
   "outputs": [
    {
     "data": {
      "text/plain": [
       "(0.995171242063847,)"
      ]
     },
     "execution_count": 122,
     "metadata": {},
     "output_type": "execute_result"
    }
   ],
   "source": [
    "roc_auc_score(y_val,y_pred[:,1]),"
   ]
  },
  {
   "cell_type": "markdown",
   "id": "ea4b08a0",
   "metadata": {},
   "source": [
    "# Q3"
   ]
  },
  {
   "cell_type": "code",
   "execution_count": 123,
   "id": "e2ebf0da",
   "metadata": {},
   "outputs": [],
   "source": [
    "threshold = np.linspace(0,1,100).round(2)"
   ]
  },
  {
   "cell_type": "code",
   "execution_count": 124,
   "id": "a0b78180",
   "metadata": {},
   "outputs": [],
   "source": [
    "ROC_list=[]\n",
    "\n",
    "for t in threshold:\n",
    "    \n",
    "    predict_positiv = (y_pred[:,1] >= t)\n",
    "    predict_negativ = (y_pred[:,1] < t)\n",
    "    actual_positiv = (y_val == 1) \n",
    "    actual_negativ = (y_val == 0) \n",
    "\n",
    "    FP = (predict_positiv & actual_negativ).sum()\n",
    "    TP = (predict_positiv & actual_positiv).sum()\n",
    "    FN = (predict_negativ & actual_positiv).sum()\n",
    "    TN = (predict_negativ & actual_negativ).sum()\n",
    "\n",
    "    ROC_list.append((t,TP,TN,FP,FN))"
   ]
  },
  {
   "cell_type": "code",
   "execution_count": 125,
   "id": "a1b57996",
   "metadata": {},
   "outputs": [],
   "source": [
    "roc_df = pd.DataFrame(ROC_list, columns = ['t','TP','TN','FP','FN'])\n",
    "roc_df['fpr'] = roc_df.FP / (roc_df.FP + roc_df.TN)\n",
    "roc_df['tpr'] = roc_df.TP / (roc_df.TP + roc_df.FN)\n",
    "roc_df['precision'] = roc_df.TP / (roc_df.TP + roc_df.FP)\n",
    "roc_df['recall'] = roc_df.TP / (roc_df.TP + roc_df.FN)"
   ]
  },
  {
   "cell_type": "code",
   "execution_count": 126,
   "id": "c060d9f2",
   "metadata": {},
   "outputs": [
    {
     "data": {
      "text/plain": [
       "<matplotlib.legend.Legend at 0x11ab1fc4400>"
      ]
     },
     "execution_count": 126,
     "metadata": {},
     "output_type": "execute_result"
    },
    {
     "data": {
      "image/png": "[encoded data removed]",
      "text/plain": [
       "<Figure size 432x288 with 1 Axes>"
      ]
     },
     "metadata": {
      "needs_background": "light"
     },
     "output_type": "display_data"
    }
   ],
   "source": [
    "plt.plot(roc_df.t,roc_df.precision, label = 'precision')\n",
    "plt.plot(roc_df.t,roc_df.recall, label = 'recall')\n",
    "plt.legend()"
   ]
  },
  {
   "cell_type": "code",
   "execution_count": 127,
   "id": "79ec9317",
   "metadata": {},
   "outputs": [
    {
     "data": {
      "text/plain": [
       "'0.3'"
      ]
     },
     "execution_count": 127,
     "metadata": {},
     "output_type": "execute_result"
    }
   ],
   "source": [
    "'0.3'"
   ]
  },
  {
   "cell_type": "markdown",
   "id": "17add8b7",
   "metadata": {},
   "source": [
    "# Q4"
   ]
  },
  {
   "cell_type": "code",
   "execution_count": 128,
   "id": "363a8854",
   "metadata": {},
   "outputs": [],
   "source": [
    "roc_df['F1'] = 2 * roc_df.precision * roc_df.recall / (roc_df.precision + roc_df.recall)"
   ]
  },
  {
   "cell_type": "code",
   "execution_count": 129,
   "id": "b1aa8b7d",
   "metadata": {},
   "outputs": [
    {
     "data": {
      "text/plain": [
       "0.9832134292565947"
      ]
     },
     "execution_count": 129,
     "metadata": {},
     "output_type": "execute_result"
    }
   ],
   "source": [
    "roc_df['F1'].max()"
   ]
  },
  {
   "cell_type": "code",
   "execution_count": 130,
   "id": "daa2a42a",
   "metadata": {},
   "outputs": [
    {
     "data": {
      "text/html": [
       "<div>\n",
       "<style scoped>\n",
       "    .dataframe tbody tr th:only-of-type {\n",
       "        vertical-align: middle;\n",
       "    }\n",
       "\n",
       "    .dataframe tbody tr th {\n",
       "        vertical-align: top;\n",
       "    }\n",
       "\n",
       "    .dataframe thead th {\n",
       "        text-align: right;\n",
       "    }\n",
       "</style>\n",
       "<table border=\"1\" class=\"dataframe\">\n",
       "  <thead>\n",
       "    <tr style=\"text-align: right;\">\n",
       "      <th></th>\n",
       "      <th>t</th>\n",
       "      <th>TP</th>\n",
       "      <th>TN</th>\n",
       "      <th>FP</th>\n",
       "      <th>FN</th>\n",
       "      <th>fpr</th>\n",
       "      <th>tpr</th>\n",
       "      <th>precision</th>\n",
       "      <th>recall</th>\n",
       "      <th>F1</th>\n",
       "    </tr>\n",
       "  </thead>\n",
       "  <tbody>\n",
       "    <tr>\n",
       "      <th>35</th>\n",
       "      <td>0.35</td>\n",
       "      <td>205</td>\n",
       "      <td>52</td>\n",
       "      <td>1</td>\n",
       "      <td>6</td>\n",
       "      <td>0.018868</td>\n",
       "      <td>0.971564</td>\n",
       "      <td>0.995146</td>\n",
       "      <td>0.971564</td>\n",
       "      <td>0.983213</td>\n",
       "    </tr>\n",
       "    <tr>\n",
       "      <th>36</th>\n",
       "      <td>0.36</td>\n",
       "      <td>205</td>\n",
       "      <td>52</td>\n",
       "      <td>1</td>\n",
       "      <td>6</td>\n",
       "      <td>0.018868</td>\n",
       "      <td>0.971564</td>\n",
       "      <td>0.995146</td>\n",
       "      <td>0.971564</td>\n",
       "      <td>0.983213</td>\n",
       "    </tr>\n",
       "    <tr>\n",
       "      <th>37</th>\n",
       "      <td>0.37</td>\n",
       "      <td>205</td>\n",
       "      <td>52</td>\n",
       "      <td>1</td>\n",
       "      <td>6</td>\n",
       "      <td>0.018868</td>\n",
       "      <td>0.971564</td>\n",
       "      <td>0.995146</td>\n",
       "      <td>0.971564</td>\n",
       "      <td>0.983213</td>\n",
       "    </tr>\n",
       "    <tr>\n",
       "      <th>38</th>\n",
       "      <td>0.38</td>\n",
       "      <td>205</td>\n",
       "      <td>52</td>\n",
       "      <td>1</td>\n",
       "      <td>6</td>\n",
       "      <td>0.018868</td>\n",
       "      <td>0.971564</td>\n",
       "      <td>0.995146</td>\n",
       "      <td>0.971564</td>\n",
       "      <td>0.983213</td>\n",
       "    </tr>\n",
       "    <tr>\n",
       "      <th>39</th>\n",
       "      <td>0.39</td>\n",
       "      <td>205</td>\n",
       "      <td>52</td>\n",
       "      <td>1</td>\n",
       "      <td>6</td>\n",
       "      <td>0.018868</td>\n",
       "      <td>0.971564</td>\n",
       "      <td>0.995146</td>\n",
       "      <td>0.971564</td>\n",
       "      <td>0.983213</td>\n",
       "    </tr>\n",
       "    <tr>\n",
       "      <th>40</th>\n",
       "      <td>0.40</td>\n",
       "      <td>205</td>\n",
       "      <td>52</td>\n",
       "      <td>1</td>\n",
       "      <td>6</td>\n",
       "      <td>0.018868</td>\n",
       "      <td>0.971564</td>\n",
       "      <td>0.995146</td>\n",
       "      <td>0.971564</td>\n",
       "      <td>0.983213</td>\n",
       "    </tr>\n",
       "    <tr>\n",
       "      <th>41</th>\n",
       "      <td>0.41</td>\n",
       "      <td>205</td>\n",
       "      <td>52</td>\n",
       "      <td>1</td>\n",
       "      <td>6</td>\n",
       "      <td>0.018868</td>\n",
       "      <td>0.971564</td>\n",
       "      <td>0.995146</td>\n",
       "      <td>0.971564</td>\n",
       "      <td>0.983213</td>\n",
       "    </tr>\n",
       "  </tbody>\n",
       "</table>\n",
       "</div>"
      ],
      "text/plain": [
       "       t   TP  TN  FP  FN       fpr       tpr  precision    recall        F1\n",
       "35  0.35  205  52   1   6  0.018868  0.971564   0.995146  0.971564  0.983213\n",
       "36  0.36  205  52   1   6  0.018868  0.971564   0.995146  0.971564  0.983213\n",
       "37  0.37  205  52   1   6  0.018868  0.971564   0.995146  0.971564  0.983213\n",
       "38  0.38  205  52   1   6  0.018868  0.971564   0.995146  0.971564  0.983213\n",
       "39  0.39  205  52   1   6  0.018868  0.971564   0.995146  0.971564  0.983213\n",
       "40  0.40  205  52   1   6  0.018868  0.971564   0.995146  0.971564  0.983213\n",
       "41  0.41  205  52   1   6  0.018868  0.971564   0.995146  0.971564  0.983213"
      ]
     },
     "execution_count": 130,
     "metadata": {},
     "output_type": "execute_result"
    }
   ],
   "source": [
    "roc_df[roc_df['F1']==roc_df['F1'].max()]"
   ]
  },
  {
   "cell_type": "code",
   "execution_count": 131,
   "id": "476db42f",
   "metadata": {},
   "outputs": [
    {
     "data": {
      "text/plain": [
       "'t = 0.4'"
      ]
     },
     "execution_count": 131,
     "metadata": {},
     "output_type": "execute_result"
    }
   ],
   "source": [
    "'t = 0.4'"
   ]
  },
  {
   "cell_type": "markdown",
   "id": "1de15285",
   "metadata": {},
   "source": [
    "# Q5"
   ]
  },
  {
   "cell_type": "code",
   "execution_count": 132,
   "id": "22bfb599",
   "metadata": {},
   "outputs": [],
   "source": [
    "from sklearn.model_selection import KFold"
   ]
  },
  {
   "cell_type": "code",
   "execution_count": 133,
   "id": "b57fed4d",
   "metadata": {},
   "outputs": [],
   "source": [
    "kfold = KFold(n_splits=5, shuffle=True, random_state=1)"
   ]
  },
  {
   "cell_type": "code",
   "execution_count": 134,
   "id": "dd8660b8",
   "metadata": {},
   "outputs": [],
   "source": [
    "roc_auc_list = []\n",
    "\n",
    "for train_idx, val_idx in \\\n",
    "            kfold.split(df_full_train):\n",
    "    \n",
    "    df_train = df_full_train.iloc[train_idx]\n",
    "    df_val = df_full_train.iloc[val_idx]\n",
    "    \n",
    "    y_val,y_pred = train(df_train,df_val)\n",
    "    roc_auc_list.append(roc_auc_score(y_val,y_pred[:,1]))"
   ]
  },
  {
   "cell_type": "code",
   "execution_count": 135,
   "id": "99464a75",
   "metadata": {},
   "outputs": [
    {
     "data": {
      "text/plain": [
       "0.0027434713804377724"
      ]
     },
     "execution_count": 135,
     "metadata": {},
     "output_type": "execute_result"
    }
   ],
   "source": [
    "np.std(roc_auc_list)"
   ]
  },
  {
   "cell_type": "markdown",
   "id": "a3aed6b4",
   "metadata": {},
   "source": [
    "# Q6"
   ]
  },
  {
   "cell_type": "code",
   "execution_count": 152,
   "id": "2198e878",
   "metadata": {},
   "outputs": [
    {
     "data": {
      "application/vnd.jupyter.widget-view+json": {
       "model_id": "ceb450e9165d4ef388ab1e25e739c5bf",
       "version_major": 2,
       "version_minor": 0
      },
      "text/plain": [
       "  0%|          | 0/4 [00:00<?, ?it/s]"
      ]
     },
     "metadata": {},
     "output_type": "display_data"
    },
    {
     "name": "stdout",
     "output_type": "stream",
     "text": [
      "C=0.01 have a mean of 0.99188 and a std of 0.006\n",
      "C=0.1 have a mean of 0.99506 and a std of 0.004\n",
      "C=1 have a mean of 0.99645 and a std of 0.003\n",
      "C=10 have a mean of 0.99639 and a std of 0.003\n"
     ]
    }
   ],
   "source": [
    "from tqdm.auto import tqdm\n",
    "\n",
    "c_dict = {}\n",
    "\n",
    "for c in tqdm([0.01,0.1,1,10]):\n",
    "    kfold = KFold(n_splits=5, shuffle=True, random_state=1)\n",
    "    \n",
    "    roc_auc_list = []\n",
    "\n",
    "    for train_idx, val_idx in \\\n",
    "                kfold.split(df_full_train):\n",
    "\n",
    "        df_train = df_full_train.iloc[train_idx]\n",
    "        df_val = df_full_train.iloc[val_idx]\n",
    "\n",
    "        y_val,y_pred = train(df_train,df_val,c)\n",
    "        roc_auc_list.append(roc_auc_score(y_val,y_pred[:,1]))\n",
    "        \n",
    "    print('C=%s have a mean of %.5f and a std of %.3f' % (c,np.mean(roc_auc_list),np.std(roc_auc_list)))\n",
    "    \n",
    "    c_dict[c] = roc_auc_list"
   ]
  },
  {
   "cell_type": "code",
   "execution_count": 153,
   "id": "afcd75cb",
   "metadata": {},
   "outputs": [
    {
     "data": {
      "text/plain": [
       "'C=1'"
      ]
     },
     "execution_count": 153,
     "metadata": {},
     "output_type": "execute_result"
    }
   ],
   "source": [
    "'C=1'"
   ]
  },
  {
   "cell_type": "code",
   "execution_count": null,
   "id": "cecf2146",
   "metadata": {},
   "outputs": [],
   "source": []
  }
 ],
 "metadata": {
  "kernelspec": {
   "display_name": "Python 3 (ipykernel)",
   "language": "python",
   "name": "python3"
  },
  "language_info": {
   "codemirror_mode": {
    "name": "ipython",
    "version": 3
   },
   "file_extension": ".py",
   "mimetype": "text/x-python",
   "name": "python",
   "nbconvert_exporter": "python",
   "pygments_lexer": "ipython3",
   "version": "3.8.12"
  }
 },
 "nbformat": 4,
 "nbformat_minor": 5
}

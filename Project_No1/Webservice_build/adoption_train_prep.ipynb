{
 "cells": [
  {
   "cell_type": "code",
   "execution_count": 1,
   "id": "9bcf55b8",
   "metadata": {},
   "outputs": [],
   "source": [
    "import pandas as pd\n",
    "import numpy as np\n",
    "import numpy as numpy\n",
    "import seaborn as sns\n",
    "import matplotlib.pyplot as plt\n",
    "%matplotlib inline\n",
    "from scipy.stats import ttest_ind\n",
    "from sklearn.model_selection import train_test_split\n",
    "from sklearn.model_selection import GridSearchCV\n",
    "from sklearn.linear_model import LogisticRegression\n",
    "from sklearn.ensemble import GradientBoostingClassifier\n",
    "from sklearn.ensemble import RandomForestClassifier\n",
    "from xgboost.sklearn import XGBClassifier\n",
    "from sklearn.metrics import roc_auc_score\n",
    "import pickle\n",
    "import dill\n",
    "\n",
    "import sys\n",
    "numpy.set_printoptions(threshold=sys.maxsize)\n",
    "import warnings\n",
    "warnings.filterwarnings(\"ignore\")"
   ]
  },
  {
   "cell_type": "code",
   "execution_count": 2,
   "id": "5b1f2911",
   "metadata": {},
   "outputs": [],
   "source": [
    "#loading data\n",
    "df_in = pd.read_csv(\"Austin_Animal_Center_Intakes.csv\")\n",
    "df_out = pd.read_csv(\"Austin_Animal_Center_Outcomes.csv\")\n",
    "df = pd.merge(df_in,df_out,on = [\"Animal ID\",\"Name\"])"
   ]
  },
  {
   "cell_type": "markdown",
   "id": "5eb66432",
   "metadata": {},
   "source": [
    "# Functions"
   ]
  },
  {
   "cell_type": "code",
   "execution_count": 3,
   "id": "ada524a0",
   "metadata": {},
   "outputs": [],
   "source": [
    "#renaming columns and values\n",
    "def all_lower(df):\n",
    "    \n",
    "    df.columns = df.columns.str.replace(' ','_').str.lower()\n",
    "    for column in df.columns:\n",
    "        if column in ['datetime_x','datetime_y']:\n",
    "            pass\n",
    "        else:\n",
    "            df[column] = df[column].str.replace(' ', '_').str.lower()\n",
    "            \n",
    "    return df\n",
    "\n",
    "# functions to get new parameters from the column\n",
    "def get_animal_sex(x):\n",
    "    x = str(x)\n",
    "    if x.find('_male') >= 0: return 'male'\n",
    "    if x.find('_female') >= 0: return 'female'\n",
    "    return 'other_sex'\n",
    "def get_animal_neutered(x):\n",
    "    x = str(x)\n",
    "    if x.find('spayed') >= 0: return 'neutered'\n",
    "    if x.find('neutered') >= 0: return 'neutered'\n",
    "    if x.find('intact') >= 0: return 'intact'\n",
    "    return 'other_neutered'\n",
    "\n",
    "def age_to_months(item):\n",
    "    # convert item to list if it is one string\n",
    "    if type(item) is str:\n",
    "        item = [item]\n",
    "    age_to_months = np.zeros(len(item))\n",
    "    for i in range(len(item)):\n",
    "        # check if item[i] is str\n",
    "        if type(item[i]) is str:\n",
    "            if 'day' in item[i]:\n",
    "                day_value = int(item[i].split(' ')[0])/30\n",
    "                if day_value > 1:\n",
    "                    day_value = 1\n",
    "                age_to_months[i] = float(day_value)\n",
    "            if 'week' in item[i]:\n",
    "                week_value = int(item[i].split(' ')[0])/4\n",
    "                if week_value > 1:\n",
    "                    week_value = 1\n",
    "                age_to_months[i] = float(week_value)\n",
    "            if 'month' in item[i]:\n",
    "                age_to_months[i] = int(item[i].split(' ')[0])\n",
    "            if 'year' in item[i]:\n",
    "                age_to_months[i] = int(item[i].split(' ')[0])*12    \n",
    "        else:\n",
    "            # item[i] is not a string but a nan\n",
    "            age_to_months[i] = 0\n",
    "    return age_to_months\n",
    "\n",
    "def color_bucketing(color):\n",
    "    if type(color) is str:\n",
    "        if 'black/white' in str(color):\n",
    "            return pd.Series(['black/white','bicolor'])\n",
    "        if 'black' in str(color):\n",
    "            return pd.Series(['black','unicolor'])\n",
    "        if 'brown_tabby' in str(color):\n",
    "            return pd.Series(['brown','bicolor'])\n",
    "        if 'brown/white' in str(color):\n",
    "            return pd.Series(['brown/white','bicolor'])\n",
    "        if 'white' in str(color):\n",
    "            return pd.Series(['white','unicolor'])\n",
    "        if 'tan/white' in str(color):\n",
    "            return pd.Series(['tan/white','bicolor'])\n",
    "        if 'white/black' in str(color):\n",
    "            return pd.Series(['white/black','bicolor'])\n",
    "        if 'blue/white' in str(color):\n",
    "            return pd.Series(['blue/white','bicolor'])\n",
    "        if 'tricolor3' in str(color):\n",
    "            return pd.Series(['tricolor','tricolor'])\n",
    "        if 'black/tan' in str(color):\n",
    "            return pd.Series(['black/tan','bicolor'])\n",
    "        if 'brown/white' in str(color):\n",
    "            return pd.Series(['brown/white','tricolor'])\n",
    "        if 'tan' in str(color):\n",
    "            return pd.Series(['tan','unicolor'])\n",
    "        if 'orange' in str(color):\n",
    "            return pd.Series(['orange','bicolor'])\n",
    "        if 'brown' in str(color):\n",
    "            return pd.Series(['brown','unicolor'])\n",
    "        if 'white/brown' in str(color):\n",
    "            return pd.Series(['white/brown','bicolor'])\n",
    "        if 'brown_brindle/white' in str(color):\n",
    "            return pd.Series(['white/brown','bicolor'])\n",
    "        if 'white/tan' in str(color):\n",
    "            return pd.Series(['white/tan','bicolor'])\n",
    "        if 'black/brown' in str(color):\n",
    "            return pd.Series(['black/brown','bicolor'])\n",
    "        if 'blue' in str(color):\n",
    "            return pd.Series(['blue','unicolor'])\n",
    "        if 'calico' in str(color):\n",
    "            return pd.Series(['calico','tricolor'])\n",
    "        if 'tortie' in str(color):\n",
    "            return pd.Series(['tortie','tricolor'])\n",
    "        if 'brown/black' in str(color):\n",
    "            return pd.Series(['brown/black','bicolor'])\n",
    "        if 'blue_tabby' in str(color):\n",
    "            return pd.Series(['brown','bicolor'])\n",
    "        if 'red' in str(color):\n",
    "            return pd.Series(['red','unicolor'])\n",
    "        if 'red/white' in str(color):\n",
    "            return pd.Series(['red/white','bicolor'])\n",
    "        if 'orange_tabby/white' in str(color):\n",
    "            return pd.Series(['orange/white','tricolor'])\n",
    "        if 'torbie' in str(color):\n",
    "            return pd.Series(['torbie','tricolor'])\n",
    "        if 'brown_brindle' in str(color):\n",
    "            return pd.Series(['brown','unicolor'])\n",
    "        if 'tan/black' in str(color):\n",
    "            return pd.Series(['tan/black','bicolor'])\n",
    "        if 'chocolate/white' in str(color):\n",
    "            return pd.Series(['chocolate/white','bicolor'])\n",
    "        if 'yellow' in str(color):\n",
    "            return pd.Series(['yellow','unicolor'])\n",
    "        if 'sable' in str(color):\n",
    "            return pd.Series(['sable','tricolor'])\n",
    "        else:\n",
    "            return pd.Series(['other_color','other_colortype'])\n",
    "        \n",
    "def time_extra_features(df):\n",
    "    df[\"weekday_num_income\"] = df[\"date_income\"].dt.dayofweek\n",
    "    df[\"weekend_income\"] = np.where(df['weekday_num_income'] >= 5, 1, 0)\n",
    "    df[\"month_num_income\"] = df[\"date_income\"].dt.month\n",
    "    df[\"daytime_income\"] = np.where(df['time_income'] >= '12:00:00', 1, 0)\n",
    "    \n",
    "    if 'date_outcome' in df.columns:\n",
    "        df[\"weekday_num_outcome\"] = df[\"date_outcome\"].dt.dayofweek\n",
    "        df[\"weekend_outcome\"] = np.where(df['weekday_num_outcome'] >= 5, 1, 0)\n",
    "        df[\"month_num_outcome\"] = df[\"date_outcome\"].dt.month\n",
    "        df[\"daytime_outcome\"] = np.where(df['time_outcome'] >= '12:00:00', 1, 0)\n",
    "        \n",
    "    return df\n",
    "\n",
    "# bucketing the most usual dog breeds\n",
    "def dog_breed_bucketing(breed):\n",
    "    if type(breed) is str:\n",
    "        if 'pit' in str(breed):\n",
    "            return 'pit'\n",
    "        if 'retriever' in str(breed):\n",
    "            return 'retriever'\n",
    "        if 'german shepherd' in str(breed):\n",
    "            return 'german_shepherd'\n",
    "        if ('shepherd' in str(breed)) & ('german' not in str(breed)):\n",
    "            return 'shepherd'\n",
    "        if 'australian' in str(breed):\n",
    "            return 'australian'\n",
    "        if 'hound' in str(breed):\n",
    "            return 'hound'\n",
    "        if 'chihuahua' in str(breed):\n",
    "            return 'chihuahua'\n",
    "        if 'dachshund' in str(breed):\n",
    "            return 'dachshund'\n",
    "        if 'boxer' in str(breed):\n",
    "            return 'boxer'\n",
    "        if 'poodle' in str(breed):\n",
    "            return 'poodle'\n",
    "        if ('border' in str(breed)) & ('collie' in str(breed)):\n",
    "            return 'border_collie'\n",
    "        if 'terrier' in str(breed):\n",
    "            return 'terrier'\n",
    "        if 'husky' in str(breed):\n",
    "            return 'husky'\n",
    "        if 'bulldog' in str(breed):\n",
    "            return 'bulldog'\n",
    "        if 'schnauzer' in str(breed):\n",
    "            return 'schnauzer'\n",
    "        if 'staffordshire' in str(breed):\n",
    "            return 'staffordshire'\n",
    "        if 'rottweiler' in str(breed):\n",
    "            return 'rottweiler'\n",
    "        else:\n",
    "            return 'other_breed'\n",
    "        \n",
    "# bucketing the most usual cat breeds        \n",
    "def cat_breed_bucketing(breed):\n",
    "    if type(breed) is str:\n",
    "        if 'shorthair' in str(breed):\n",
    "            return 'shorthair'\n",
    "        if 'medium' in str(breed):\n",
    "            return 'mediumhair'\n",
    "        if 'longhair' in str(breed):\n",
    "            return 'longhair'\n",
    "        if 'siamese' in str(breed):\n",
    "            return 'siamese'\n",
    "        else:\n",
    "            return 'other_breed'\n",
    "        \n",
    "########## MODELING FUNCTIONS #######\n",
    "# converting the categorical features into numerical features using the built in 'get_dummies' function\n",
    "def numerical_convert(df):\n",
    "    \n",
    "    columns = ['intake_type', 'intake_condition',\n",
    "               'animal_type', 'income_sex','income_neutered',\n",
    "               'color_buckets', 'color_type', 'breed_buckets']\n",
    "\n",
    "    for column in columns:\n",
    "        # Get one hot encoding of columns 'vehicleType'\n",
    "        one_hot = pd.get_dummies(df[column])\n",
    "        # Drop column as it is now encoded\n",
    "        df = df.drop(column,axis = 1)\n",
    "        # Join the encoded df\n",
    "        df = df.join(one_hot)\n",
    "        \n",
    "    return df\n",
    "\n",
    "#fuction to find the best parameters for the model\n",
    "def best_params(X_train,y_train):\n",
    "    model = XGBClassifier()\n",
    "    param_grid = { \n",
    "        'n_estimators': [75,150,175],\n",
    "        'max_leaves': [10,15,20,30,40],\n",
    "        'min_child_weight' : [5,10,20,30,40,50,60,80,100],\n",
    "        'max_depth':[5,6,7],\n",
    "        'learning_rate': [0.03,0.05,0.06,0.08,0.1]\n",
    "    }\n",
    "    \n",
    "    CV_model = GridSearchCV(estimator=model, param_grid=param_grid, cv= 4)\n",
    "    CV_model.fit(X_train, y_train)\n",
    "    \n",
    "    return CV_model.best_params_"
   ]
  },
  {
   "cell_type": "markdown",
   "id": "74f6cd1d",
   "metadata": {},
   "source": [
    "# Data Preparation"
   ]
  },
  {
   "cell_type": "code",
   "execution_count": 4,
   "id": "dc013473",
   "metadata": {},
   "outputs": [],
   "source": [
    "#rename columns to lower cases and values to lowecases and '_' instead of space\n",
    "df = all_lower(df)\n",
    "\n",
    "# separating dates and datetimes(hours:minutes:seconds)\n",
    "df['date_income'] = pd.to_datetime(df.datetime_x.str[:10] ,format ='%m/%d/%Y')\n",
    "df['time_income'] = pd.to_datetime(df.datetime_x.str[11:22], format='%I:%M:%S %p').dt.strftime('%H:%M:%S')\n",
    "df['date_outcome'] = pd.to_datetime(df.datetime_y.str[:10] ,format ='%m/%d/%Y')\n",
    "df['time_outcome'] = pd.to_datetime(df.datetime_y.str[11:22], format='%I:%M:%S %p').dt.strftime('%H:%M:%S')"
   ]
  },
  {
   "cell_type": "code",
   "execution_count": 5,
   "id": "8bae9a47",
   "metadata": {},
   "outputs": [],
   "source": [
    "# Applying the conditions\n",
    "df[\"name\"] = np.where(df[\"name\"].isnull(),\"unknown\",df[\"name\"])\n",
    "df['animal_type'] = np.where(df['animal_type_x'].equals(df['animal_type_y']),df['animal_type_x'],\"false\")\n",
    "df['animal_breed'] = np.where(df['breed_x'].equals(df['breed_y']),df['breed_x'],\"false\")\n",
    "df['animal_color'] = np.where(df['color_x'].equals(df['color_y']),df['color_x'],\"false\")\n",
    "df = df[df['age_upon_outcome'].notnull()]\n",
    "df = df[df[\"outcome_type\"] != \"missing\"]\n",
    "df = df[df['date_outcome'] >= df['date_income']]\n",
    "df = df[df['animal_type'].isin(['dog','cat'])]"
   ]
  },
  {
   "cell_type": "code",
   "execution_count": 6,
   "id": "9be8519a",
   "metadata": {},
   "outputs": [],
   "source": [
    "del df['found_location']\n",
    "del df['datetime_x']\n",
    "del df['monthyear_x']\n",
    "del df['datetime_y']\n",
    "del df['monthyear_y']\n",
    "del df['date_of_birth']\n",
    "del df['animal_type_x']\n",
    "del df['animal_type_y']\n",
    "del df['breed_x']\n",
    "del df['breed_y']\n",
    "del df['color_x']\n",
    "del df['color_y']"
   ]
  },
  {
   "cell_type": "markdown",
   "id": "af914b9e",
   "metadata": {},
   "source": [
    "# Data Engineering"
   ]
  },
  {
   "cell_type": "code",
   "execution_count": 7,
   "id": "1091a4c2",
   "metadata": {},
   "outputs": [],
   "source": [
    "#renaming the main dataframe for easier debugging\n",
    "df2 = df.copy()\n",
    "\n",
    "#Applying the feature engineer functions to extract animal gender and animal subgender\n",
    "df2['income_sex'] = df2.sex_upon_intake.apply(get_animal_sex)\n",
    "df2['income_neutered'] = df2.sex_upon_intake.apply(get_animal_neutered)\n",
    "df2['outcome_sex'] = df2.sex_upon_outcome.apply(get_animal_sex)\n",
    "df2['outcome_neutered'] = df2.sex_upon_outcome.apply(get_animal_neutered)\n",
    "\n",
    "# converting animal ages to months format\n",
    "df2['intake_age_months'] = age_to_months(np.array(df2['age_upon_intake'].str.replace('_',' ')))\n",
    "df2['outcome_age_months'] = age_to_months(np.array(df2['age_upon_outcome'].str.replace('_',' ')))\n",
    "\n",
    "#unifilying column values based on what we need for this project \n",
    "df2 = df2.replace({'outcome_type': {'disposal':'died',\n",
    "                                   'euthanasia': 'died',\n",
    "                                   'rto-adopt':'return_to_owner'},\n",
    "                  'outcome_subtype' : {'aggressive':'died',\n",
    "                                       'at_vet':'died',\n",
    "                                       'barn': None,\n",
    "                                       'behavior':'died',\n",
    "                                       'court/investigation': 'died',\n",
    "                                       'enroute':'died',\n",
    "                                       'in_foster':'died',\n",
    "                                       'in_kennel':'died',\n",
    "                                       'in_surgery':'died',\n",
    "                                       'medical':'died',\n",
    "                                       'rabies_risk':'died',\n",
    "                                       'suffering':'died',\n",
    "                                       'possible_theft': 'missing',\n",
    "                                       'offsite': None                      \n",
    "                  }\n",
    "                 })\n",
    "\n",
    "#creating and IsMix column if animal breed contains 'mix' word\n",
    "df2['IsMix'] = df2['animal_breed'].str.contains('mix',case=False).astype(int)\n",
    "#calculationg how long each animal stayed at the shelter\n",
    "df2['stay_lenght'] = (df2['date_outcome'] - df2['date_income'])/np.timedelta64(1, 'M')\n",
    "#Adding two more collumns based on each animals color \n",
    "df2[['color_buckets','color_type']] = df2['animal_color'].apply(color_bucketing)\n",
    "#Adding several extra numberical columns based on the dayofweek, if its weekend, monthofyear,if its morning or afternoon\n",
    "\n",
    "df2 = time_extra_features(df2)\n",
    "\n",
    "#deleting no more needed columns\n",
    "del df2['sex_upon_intake']\n",
    "del df2['sex_upon_outcome']\n",
    "del df2['age_upon_intake']\n",
    "del df2['age_upon_outcome']"
   ]
  },
  {
   "cell_type": "markdown",
   "id": "335615b3",
   "metadata": {},
   "source": [
    "# Feature Engineering"
   ]
  },
  {
   "cell_type": "code",
   "execution_count": 8,
   "id": "f94748c2",
   "metadata": {},
   "outputs": [],
   "source": [
    "#separating the dog and cat dataset\n",
    "df_dog = df2[df2[\"animal_type\"] == 'dog']\n",
    "df_cat = df2[df2[\"animal_type\"] == 'cat']\n",
    "#print(len(df2),len(df_dog),len(df_cat))"
   ]
  },
  {
   "cell_type": "code",
   "execution_count": 9,
   "id": "9c259817",
   "metadata": {},
   "outputs": [],
   "source": [
    "#Adding breed buckets to each datasets\n",
    "df_dog['breed_buckets'] = df_dog['animal_breed'].str.replace('_',' ').apply(dog_breed_bucketing)\n",
    "df_cat['breed_buckets'] = df_cat['animal_breed'].str.replace('_',' ').apply(cat_breed_bucketing)"
   ]
  },
  {
   "cell_type": "code",
   "execution_count": 10,
   "id": "c85aefdd",
   "metadata": {},
   "outputs": [],
   "source": [
    "#Rejoining the two datasets\n",
    "df_animals = pd.concat([df_dog,df_cat]).reset_index()"
   ]
  },
  {
   "cell_type": "markdown",
   "id": "655e1955",
   "metadata": {},
   "source": [
    "# Exploratory Data Analysis"
   ]
  },
  {
   "cell_type": "code",
   "execution_count": 11,
   "id": "b346de76",
   "metadata": {},
   "outputs": [
    {
     "name": "stdout",
     "output_type": "stream",
     "text": [
      "TOTAL:  66019\n",
      "stray                 48760\n",
      "owner_surrender       12653\n",
      "public_assist          4364\n",
      "euthanasia_request      242\n",
      "Name: intake_type, dtype: int64\n",
      "normal      59211\n",
      "injured      2855\n",
      "sick         1866\n",
      "nursing      1559\n",
      "aged          283\n",
      "other         119\n",
      "feral          78\n",
      "pregnant       48\n",
      "Name: intake_condition, dtype: int64\n"
     ]
    }
   ],
   "source": [
    "print (\"TOTAL: \", len(df_animals))\n",
    "print (df_animals['intake_type'].value_counts())\n",
    "print (df_animals['intake_condition'].value_counts())"
   ]
  },
  {
   "cell_type": "markdown",
   "id": "a915627f",
   "metadata": {},
   "source": [
    "### How much time does the average animal spend in the shelter? "
   ]
  },
  {
   "cell_type": "code",
   "execution_count": 12,
   "id": "258c7131",
   "metadata": {},
   "outputs": [
    {
     "name": "stdout",
     "output_type": "stream",
     "text": [
      "Median 0.19712930450317254 -- true average months stayed\n",
      "Mean 1.2053426270866945 -- mean is skewed by animals with long stays\n",
      "Mode 0    0.0\n",
      "Name: stay_lenght, dtype: float64 -- most likely transfered\n"
     ]
    },
    {
     "data": {
      "text/plain": [
       "<AxesSubplot: >"
      ]
     },
     "execution_count": 12,
     "metadata": {},
     "output_type": "execute_result"
    },
    {
     "data": {
      "image/png": "[encoded data removed]",
      "text/plain": [
       "<Figure size 640x480 with 1 Axes>"
      ]
     },
     "metadata": {},
     "output_type": "display_data"
    }
   ],
   "source": [
    "print (\"Median\", df_animals[\"stay_lenght\"].median(), \"-- true average months stayed\")\n",
    "print (\"Mean\", df_animals[\"stay_lenght\"].mean(), \"-- mean is skewed by animals with long stays\")\n",
    "print (\"Mode\", df_animals[\"stay_lenght\"].mode(), \"-- most likely transfered\")\n",
    "df_animals['stay_lenght'].hist(bins = 50)"
   ]
  },
  {
   "cell_type": "markdown",
   "id": "436bf762",
   "metadata": {},
   "source": [
    "### Is there a significant difference between length of stay for Dogs and Cats?\n",
    "Average length of stay is slightly longer for cats."
   ]
  },
  {
   "cell_type": "code",
   "execution_count": 13,
   "id": "faddda2c",
   "metadata": {},
   "outputs": [
    {
     "data": {
      "text/plain": [
       "<matplotlib.legend.Legend at 0x7f8a41909d00>"
      ]
     },
     "execution_count": 13,
     "metadata": {},
     "output_type": "execute_result"
    },
    {
     "data": {
      "image/png": "[encoded data removed]",
      "text/plain": [
       "<Figure size 1500x500 with 1 Axes>"
      ]
     },
     "metadata": {},
     "output_type": "display_data"
    }
   ],
   "source": [
    "df_animals[df_animals[\"animal_type\"] == \"dog\"]['stay_lenght'].hist(bins = 500,\n",
    "                                                                   figsize=(15,5),\n",
    "                                                                   color = \"lightblue\",\n",
    "                                                                   ec=\"black\",\n",
    "                                                                   label='Length of stay for Dogs')\n",
    "df_animals[df_animals[\"animal_type\"] == \"cat\"]['stay_lenght'].hist(bins = 500,\n",
    "                                                                   figsize=(15,5),\n",
    "                                                                   color = \"green\",\n",
    "                                                                   ec=\"black\",\n",
    "                                                                   label='Length of stay for Cats')\n",
    "plt.xlim([0, 6])\n",
    "plt.legend()"
   ]
  },
  {
   "cell_type": "markdown",
   "id": "b81cd19e",
   "metadata": {},
   "source": [
    "### Given an animal is adopted, is there a significant difference between length of stay for Dogs and Cats?\n",
    "Average length of stay for adoptions is significantly longer for cats."
   ]
  },
  {
   "cell_type": "code",
   "execution_count": 14,
   "id": "f3f518cc",
   "metadata": {},
   "outputs": [
    {
     "name": "stdout",
     "output_type": "stream",
     "text": [
      "Dog Adopted Mean:  1.4988650398582521\n",
      "Dog Adopted Median:  0.29569395675475885\n",
      "Cat Adopted Mean:  1.4626636370650528\n",
      "Cat Adopted Median:  0.8542269861804144\n"
     ]
    }
   ],
   "source": [
    "dog_adopted_records = df_animals[(df_animals[\"outcome_type\"] == \"adoption\") & \n",
    "                                 (df_animals[\"animal_type\"] == \"dog\")]\n",
    "cat_adopted_records = df_animals[(df_animals[\"outcome_type\"] == \"adoption\") &\n",
    "                                 (df_animals[\"animal_type\"] == \"cat\")]\n",
    "\n",
    "print (\"Dog Adopted Mean: \", dog_adopted_records[\"stay_lenght\"].mean())\n",
    "print (\"Dog Adopted Median: \", dog_adopted_records[\"stay_lenght\"].median())\n",
    "print (\"Cat Adopted Mean: \", cat_adopted_records[\"stay_lenght\"].mean())\n",
    "print (\"Cat Adopted Median: \", cat_adopted_records[\"stay_lenght\"].median())"
   ]
  },
  {
   "cell_type": "markdown",
   "id": "13695510",
   "metadata": {},
   "source": [
    "### Given an animal is adopted, is there a significant difference between length of stay for Female vs Male dogs and cats?\n",
    "Not a significant difference between Dogs, almost a significant difference between cats. Male animals are adopted faster across the board."
   ]
  },
  {
   "cell_type": "code",
   "execution_count": 15,
   "id": "da5b3e0f",
   "metadata": {},
   "outputs": [
    {
     "name": "stdout",
     "output_type": "stream",
     "text": [
      "Male Dog Adopted Mean:  1.4831291911011661\n",
      "Female Dog Adopted Mean:  1.5153828915032115\n",
      "Male Cat Adopted Mean:  1.4053678360771993\n",
      "Female Cat Adopted Mean:  1.5166744671998749\n",
      "Male vs Female Dog Ttest_indResult(statistic=-0.6320941195569445, pvalue=0.5273331814302167)\n",
      "Male vs Female Cat Ttest_indResult(statistic=-2.2367112788530945, pvalue=0.025327132262350508)\n"
     ]
    }
   ],
   "source": [
    "male_dog_adopted_records = dog_adopted_records[dog_adopted_records[\"income_sex\"] == \"male\"]\n",
    "female_dog_adopted_records = dog_adopted_records[dog_adopted_records[\"income_sex\"] == \"female\"]\n",
    "male_cat_adopted_records = cat_adopted_records[cat_adopted_records[\"income_sex\"] == \"male\"]\n",
    "female_cat_adopted_records = cat_adopted_records[cat_adopted_records[\"income_sex\"] == \"female\"]\n",
    "\n",
    "print (\"Male Dog Adopted Mean: \", male_dog_adopted_records[\"stay_lenght\"].mean())\n",
    "print (\"Female Dog Adopted Mean: \", female_dog_adopted_records[\"stay_lenght\"].mean())\n",
    "print (\"Male Cat Adopted Mean: \", male_cat_adopted_records[\"stay_lenght\"].mean())\n",
    "print (\"Female Cat Adopted Mean: \", female_cat_adopted_records[\"stay_lenght\"].mean())\n",
    "\n",
    "print (\"Male vs Female Dog\", ttest_ind(male_dog_adopted_records[\"stay_lenght\"],\n",
    "                                       female_dog_adopted_records[\"stay_lenght\"]))\n",
    "print (\"Male vs Female Cat\", ttest_ind(male_cat_adopted_records[\"stay_lenght\"],\n",
    "                                       female_cat_adopted_records[\"stay_lenght\"]))"
   ]
  },
  {
   "cell_type": "markdown",
   "id": "bfc4df28",
   "metadata": {},
   "source": [
    "### What is the likelihood of outcome based on age?"
   ]
  },
  {
   "cell_type": "markdown",
   "id": "6efa5af4",
   "metadata": {},
   "source": [
    "### Dogs"
   ]
  },
  {
   "cell_type": "code",
   "execution_count": 16,
   "id": "0740075a",
   "metadata": {},
   "outputs": [],
   "source": [
    "dog_records = df_animals[df_animals[\"animal_type\"] == \"dog\"]\n",
    "\n",
    "bins = [0, 1, 3, 6, 12, 36,100]\n",
    "dog_records['age_bins'] = pd.cut(dog_records['intake_age_months'], bins)\n",
    "dog_records_outcome_age_gb = dog_records.groupby(['outcome_type','age_bins'])['age_bins'].count().unstack()"
   ]
  },
  {
   "cell_type": "code",
   "execution_count": 17,
   "id": "6f93fd14",
   "metadata": {},
   "outputs": [
    {
     "data": {
      "text/plain": [
       "<AxesSubplot: title={'center': 'Distribution of outcomes based on dog age (%)'}>"
      ]
     },
     "execution_count": 17,
     "metadata": {},
     "output_type": "execute_result"
    },
    {
     "data": {
      "image/png": "[encoded data removed]",
      "text/plain": [
       "<Figure size 2000x500 with 1 Axes>"
      ]
     },
     "metadata": {},
     "output_type": "display_data"
    }
   ],
   "source": [
    "# Transform into a percentage\n",
    "def get_perc_outcome(val,col):\n",
    "    return float(val) / float(dog_records_outcome_age_gb[col].sum()) * 100\n",
    "\n",
    "perc_dog_records_outcome_age_gb = pd.DataFrame()\n",
    "\n",
    "for col in dog_records_outcome_age_gb.columns:\n",
    "    perc_dog_records_outcome_age_gb[col] = dog_records_outcome_age_gb[col].apply(get_perc_outcome, args=(col,))\n",
    "\n",
    "perc_dog_records_outcome_age_gb = perc_dog_records_outcome_age_gb.T\n",
    "perc_dog_records_outcome_age_gb.plot(kind=\"bar\", figsize=(20,5), title = \"Distribution of outcomes based on dog age (%)\")"
   ]
  },
  {
   "cell_type": "markdown",
   "id": "99a448b0",
   "metadata": {},
   "source": [
    "### Cats"
   ]
  },
  {
   "cell_type": "code",
   "execution_count": 18,
   "id": "ca5787b7",
   "metadata": {},
   "outputs": [],
   "source": [
    "cat_records = df_animals[df_animals[\"animal_type\"] == \"cat\"]\n",
    "\n",
    "bins = [0, 1, 3, 6, 12, 36,100]\n",
    "cat_records['age_bins'] = pd.cut(cat_records['intake_age_months'], bins)\n",
    "cat_records_outcome_age_gb = cat_records.groupby(['outcome_type','age_bins'])['age_bins'].count().unstack()"
   ]
  },
  {
   "cell_type": "code",
   "execution_count": 19,
   "id": "96452b7e",
   "metadata": {},
   "outputs": [
    {
     "data": {
      "text/plain": [
       "<AxesSubplot: title={'center': 'Distribution of outcomes based on cat age (%)'}>"
      ]
     },
     "execution_count": 19,
     "metadata": {},
     "output_type": "execute_result"
    },
    {
     "data": {
      "image/png": "[encoded data removed]",
      "text/plain": [
       "<Figure size 2000x500 with 1 Axes>"
      ]
     },
     "metadata": {},
     "output_type": "display_data"
    }
   ],
   "source": [
    "# Transform into a percentage\n",
    "def get_perc_outcome(val,col):\n",
    "    return float(val) / float(cat_records_outcome_age_gb[col].sum()) * 100\n",
    "\n",
    "perc_cat_records_outcome_age_gb = pd.DataFrame()\n",
    "\n",
    "for col in cat_records_outcome_age_gb.columns:\n",
    "    perc_cat_records_outcome_age_gb[col] = cat_records_outcome_age_gb[col].apply(get_perc_outcome, args=(col,))\n",
    "\n",
    "perc_cat_records_outcome_age_gb = perc_cat_records_outcome_age_gb.T\n",
    "perc_cat_records_outcome_age_gb.plot(kind=\"bar\", figsize=(20,5), title = \"Distribution of outcomes based on cat age (%)\")"
   ]
  },
  {
   "cell_type": "markdown",
   "id": "644185ad",
   "metadata": {},
   "source": [
    "### Are there certain months that people tend to make more adoptions on? What about certain days of the week?"
   ]
  },
  {
   "cell_type": "code",
   "execution_count": 20,
   "id": "c6e52dbf",
   "metadata": {},
   "outputs": [
    {
     "data": {
      "text/plain": [
       "<AxesSubplot: title={'center': 'Adoptions Throughout the Week'}>"
      ]
     },
     "execution_count": 20,
     "metadata": {},
     "output_type": "execute_result"
    },
    {
     "data": {
      "image/png": "[encoded data removed]",
      "text/plain": [
       "<Figure size 2000x500 with 1 Axes>"
      ]
     },
     "metadata": {},
     "output_type": "display_data"
    }
   ],
   "source": [
    "df_animals[df_animals['outcome_type'] == \"adoption\"]['weekday_num_outcome'].value_counts().sort_index()\\\n",
    "                                                                    .plot(kind=\"bar\",\n",
    "                                                                          figsize=(20,5),\n",
    "                                                                          title = \"Adoptions Throughout the Week\")"
   ]
  },
  {
   "cell_type": "code",
   "execution_count": 21,
   "id": "f859ba22",
   "metadata": {},
   "outputs": [
    {
     "data": {
      "text/plain": [
       "<AxesSubplot: title={'center': 'Adoptions throughout the year'}>"
      ]
     },
     "execution_count": 21,
     "metadata": {},
     "output_type": "execute_result"
    },
    {
     "data": {
      "image/png": "[encoded data removed]",
      "text/plain": [
       "<Figure size 2000x500 with 1 Axes>"
      ]
     },
     "metadata": {},
     "output_type": "display_data"
    }
   ],
   "source": [
    "df_animals[df_animals['outcome_type'] == \"adoption\"]['month_num_outcome'].value_counts().sort_index()\\\n",
    "                                                                    .plot(kind='bar',\n",
    "                                                                        figsize=(20,5),\n",
    "                                                                        title = \"Adoptions throughout the year\")"
   ]
  },
  {
   "cell_type": "markdown",
   "id": "b7581d71",
   "metadata": {},
   "source": [
    "# Model Building"
   ]
  },
  {
   "cell_type": "code",
   "execution_count": 22,
   "id": "711b8e51",
   "metadata": {},
   "outputs": [],
   "source": [
    "#renaming the main dataframe for easier debugging\n",
    "df_model = df_animals.copy()\n",
    "#deleting unnesessary columns for adoption prediction\n",
    "del df_model['outcome_subtype']\n",
    "del df_model['outcome_sex']\n",
    "del df_model['outcome_neutered']\n",
    "del df_model[\"index\"]\n",
    "del df_model[\"name\"]\n",
    "del df_model[\"date_outcome\"]\n",
    "del df_model[\"time_outcome\"]\n",
    "del df_model[\"animal_breed\"]\n",
    "del df_model[\"animal_color\"]\n",
    "del df_model[\"outcome_age_months\"]\n",
    "del df_model[\"stay_lenght\"]\n",
    "del df_model[\"weekday_num_outcome\"]\n",
    "del df_model[\"weekend_outcome\"]\n",
    "del df_model[\"month_num_outcome\"]\n",
    "del df_model[\"daytime_outcome\"]\n",
    "del df_model[\"date_income\"]\n",
    "del df_model[\"time_income\"]\n",
    "#filling 'NaN' values with 0\n",
    "df_model = df_model.fillna(0)\n",
    "\n",
    "# Set the target column for prediction\n",
    "df_model['target'] = np.where(df_model['outcome_type'] == 'adoption',1,0)\n",
    "#deleting the outcome column from the main dataframe\n",
    "del df_model[\"outcome_type\"]"
   ]
  },
  {
   "cell_type": "code",
   "execution_count": 23,
   "id": "e8e84031",
   "metadata": {},
   "outputs": [],
   "source": [
    "# apply numerical convert function\n",
    "df_model = numerical_convert(df_model)\n",
    "#dropping duplications in the dataframe\n",
    "df_model = df_model.drop_duplicates()"
   ]
  },
  {
   "cell_type": "code",
   "execution_count": 24,
   "id": "4cd1f497",
   "metadata": {},
   "outputs": [],
   "source": [
    "#selectiong train features(X_train) and traing targets(y_train)\n",
    "train_feature = ['intake_age_months', 'IsMix', 'weekday_num_income',\n",
    "                 'weekend_income', 'month_num_income', 'daytime_income',\n",
    "                 'euthanasia_request', 'owner_surrender', 'public_assist', 'stray',\n",
    "                 'aged', 'feral', 'injured', 'normal', 'nursing', 'other', 'pregnant',\n",
    "                 'sick', 'cat', 'dog', 'female', 'male', 'other_sex', 'intact',\n",
    "                 'neutered', 'other_neutered', 'black', 'black/white', 'blue', 'brown',\n",
    "                 'brown/white', 'calico', 'orange', 'other_color', 'red', 'sable', 'tan',\n",
    "                 'torbie', 'tortie', 'white', 'yellow', 'bicolor', 'other_colortype',\n",
    "                 'tricolor', 'unicolor', 'australian', 'border_collie', 'boxer',\n",
    "                 'bulldog', 'chihuahua', 'dachshund', 'german_shepherd', 'hound',\n",
    "                 'husky', 'longhair', 'mediumhair', 'other_breed', 'pit', 'poodle',\n",
    "                 'retriever', 'rottweiler', 'schnauzer', 'shepherd', 'shorthair',\n",
    "                 'siamese', 'staffordshire', 'terrier']\n",
    "\n",
    "train_target = ['target']\n",
    "\n",
    "#separating X_full_train and y_full_train datasets\n",
    "train_df = df_model[train_feature].astype(float)\n",
    "target_df = df_model[train_target].astype(float)"
   ]
  },
  {
   "cell_type": "code",
   "execution_count": 25,
   "id": "ea722883",
   "metadata": {},
   "outputs": [],
   "source": [
    "#splitting the dataframes into train and test datasets\n",
    "X_train, X_test, y_train, y_test = train_test_split(train_df, target_df, test_size=0.2, random_state=0)"
   ]
  },
  {
   "cell_type": "code",
   "execution_count": 26,
   "id": "0cfa42c9",
   "metadata": {},
   "outputs": [
    {
     "name": "stdout",
     "output_type": "stream",
     "text": [
      "====================\n",
      "RandomForestClassifier\n",
      "accuracy of train set: 0.6428983358049102\n",
      "accuracy of test set: 0.6468940517383424\n",
      "AUC of test set: 0.6362425829687893\n",
      "====================\n",
      "RandomForestClassifier\n",
      "accuracy of train set: 0.9495180425111222\n",
      "accuracy of test set: 0.6502718734552645\n",
      "AUC of test set: 0.6404720402790428\n",
      "====================\n",
      "XGB Classifier\n",
      "accuracy of train set: 0.7264170374031965\n",
      "accuracy of test set: 0.6848739495798319\n",
      "AUC of test set: 0.6792499635559885\n"
     ]
    }
   ],
   "source": [
    "## Trying out some of the most commonly used models ##\n",
    "\n",
    "# LogisticRegression==============\n",
    "lr = LogisticRegression()\n",
    "lr.fit(X_train, y_train)\n",
    "print('='*20)\n",
    "print('RandomForestClassifier')\n",
    "print(f'accuracy of train set: {lr.score(X_train, y_train)}')\n",
    "print(f'accuracy of test set: {lr.score(X_test, y_test)}')\n",
    "y_prediction = lr.predict(X_test)\n",
    "print('AUC of test set:', roc_auc_score(y_test,y_prediction))\n",
    "\n",
    "# RandomForest==============\n",
    "rf = RandomForestClassifier()\n",
    "rf.fit(X_train, y_train)\n",
    "print('='*20)\n",
    "print('RandomForestClassifier')\n",
    "print(f'accuracy of train set: {rf.score(X_train, y_train)}')\n",
    "print(f'accuracy of test set: {rf.score(X_test, y_test)}')\n",
    "y_prediction = rf.predict(X_test)\n",
    "print('AUC of test set:', roc_auc_score(y_test,y_prediction))\n",
    "\n",
    "# XGBClassifier==============\n",
    "xgb_model = XGBClassifier()\n",
    "xgb_model.fit(X_train, y_train)\n",
    "print('='*20)\n",
    "print('XGB Classifier')\n",
    "print(f'accuracy of train set: {xgb_model.score(X_train, y_train)}')\n",
    "print(f'accuracy of test set: {xgb_model.score(X_test, y_test)}')\n",
    "y_prediction = xgb_model.predict(X_test)\n",
    "print('AUC of test set:', roc_auc_score(y_test,y_prediction))"
   ]
  },
  {
   "cell_type": "markdown",
   "id": "a99c0e0a",
   "metadata": {},
   "source": [
    "### Parameter tuning"
   ]
  },
  {
   "cell_type": "code",
   "execution_count": 28,
   "id": "bd9837bf",
   "metadata": {},
   "outputs": [],
   "source": [
    "#looking for the best model params\n",
    "#print(best_params(X_train,y_train))"
   ]
  },
  {
   "cell_type": "markdown",
   "id": "0e36ce33",
   "metadata": {},
   "source": [
    "# Create final model"
   ]
  },
  {
   "cell_type": "code",
   "execution_count": 29,
   "id": "48ad62d7",
   "metadata": {},
   "outputs": [
    {
     "name": "stdout",
     "output_type": "stream",
     "text": [
      "====================\n",
      "XGB Classifier\n",
      "accuracy of train set: 0.6946572746745757\n",
      "accuracy of test set: 0.6849563354753666\n",
      "AUC of test set: 0.6794862370384952\n"
     ]
    }
   ],
   "source": [
    "# Final XGBClassifier==============\n",
    "final_model = XGBClassifier(learning_rate = 0.06,\n",
    "                            max_depth = 6,\n",
    "                            max_leaves = 20,\n",
    "                            n_estimators = 150)\n",
    "final_model.fit(X_train, y_train)\n",
    "print('='*20)\n",
    "print('XGB Classifier')\n",
    "print(f'accuracy of train set: {final_model.score(X_train, y_train)}')\n",
    "print(f'accuracy of test set: {final_model.score(X_test, y_test)}')\n",
    "y_prediction = final_model.predict(X_test)\n",
    "print('AUC of test set:', roc_auc_score(y_test,y_prediction))"
   ]
  },
  {
   "cell_type": "code",
   "execution_count": 30,
   "id": "3bda2307",
   "metadata": {},
   "outputs": [
    {
     "data": {
      "text/plain": [
       "array([[4970, 1945],\n",
       "       [1879, 3344]])"
      ]
     },
     "execution_count": 30,
     "metadata": {},
     "output_type": "execute_result"
    }
   ],
   "source": [
    "from sklearn.metrics import confusion_matrix\n",
    "confusion_matrix(y_test, y_prediction)"
   ]
  },
  {
   "cell_type": "markdown",
   "id": "f53db6c8",
   "metadata": {},
   "source": [
    "## Check final model's feature importance\n",
    "### (Drop features if needed)"
   ]
  },
  {
   "cell_type": "code",
   "execution_count": 31,
   "id": "e66d23a4",
   "metadata": {},
   "outputs": [
    {
     "name": "stdout",
     "output_type": "stream",
     "text": [
      "['other_sex', 0.23669593]\n",
      "['owner_surrender', 0.08350464]\n",
      "['normal', 0.0734279]\n",
      "['public_assist', 0.06885398]\n",
      "['stray', 0.06253508]\n",
      "['cat', 0.049838535]\n",
      "['intake_age_months', 0.04087271]\n",
      "['intact', 0.03502378]\n",
      "['pit', 0.021444488]\n",
      "['shorthair', 0.017799633]\n",
      "['australian', 0.014195518]\n",
      "['sick', 0.010801651]\n",
      "['euthanasia_request', 0.010203663]\n",
      "['tricolor', 0.009946678]\n",
      "['shepherd', 0.009937104]\n",
      "['german_shepherd', 0.009514905]\n",
      "['chihuahua', 0.009166802]\n",
      "['terrier', 0.00854483]\n",
      "['staffordshire', 0.008412173]\n",
      "['nursing', 0.008056018]\n",
      "['other_breed', 0.007491288]\n",
      "['month_num_income', 0.007469888]\n",
      "['retriever', 0.0074601476]\n",
      "['female', 0.007067074]\n",
      "['IsMix', 0.0069007613]\n",
      "['border_collie', 0.006186898]\n",
      "['daytime_income', 0.0060606743]\n",
      "['boxer', 0.0058525456]\n",
      "['injured', 0.005790721]\n",
      "['tortie', 0.005772777]\n",
      "['white', 0.0057108663]\n",
      "['sable', 0.005703516]\n",
      "['husky', 0.005649614]\n",
      "['hound', 0.005629782]\n",
      "['poodle', 0.005589588]\n",
      "['other', 0.0055606086]\n",
      "['mediumhair', 0.005393586]\n",
      "['longhair', 0.0053857355]\n",
      "['weekday_num_income', 0.005317926]\n",
      "['neutered', 0.0050697536]\n",
      "['other_color', 0.0050035445]\n",
      "['brown/white', 0.0049966653]\n",
      "['black/white', 0.004825596]\n",
      "['rottweiler', 0.0047598453]\n",
      "['torbie', 0.00462574]\n",
      "['feral', 0.004612474]\n",
      "['black', 0.0045480593]\n",
      "['tan', 0.004482096]\n",
      "['dachshund', 0.0044641625]\n",
      "['brown', 0.0044522374]\n",
      "['aged', 0.004292048]\n",
      "['orange', 0.0042603393]\n",
      "['male', 0.004255453]\n",
      "['red', 0.0041871625]\n",
      "['siamese', 0.0040489687]\n",
      "['calico', 0.0038978613]\n",
      "['yellow', 0.003621989]\n",
      "['bulldog', 0.0035831511]\n",
      "['bicolor', 0.0033287317]\n",
      "['unicolor', 0.003238338]\n",
      "['pregnant', 0.002636522]\n",
      "['blue', 0.002039328]\n",
      "['schnauzer', 0.0]\n",
      "['dog', 0.0]\n",
      "['other_colortype', 0.0]\n",
      "['weekend_income', 0.0]\n",
      "['other_neutered', 0.0]\n"
     ]
    }
   ],
   "source": [
    "sorted_idx = np.argsort(final_model.feature_importances_)[::-1]\n",
    "\n",
    "for index in sorted_idx:\n",
    "    print([X_train.columns[index], final_model.feature_importances_[index]]) "
   ]
  },
  {
   "cell_type": "markdown",
   "id": "091ab2fc",
   "metadata": {},
   "source": [
    "### There is no significant overfitting so it makes little sense to change the variables even though some of them not contributing to the model at all"
   ]
  },
  {
   "cell_type": "markdown",
   "id": "df80151e",
   "metadata": {},
   "source": [
    "# Testing final model"
   ]
  },
  {
   "cell_type": "markdown",
   "id": "44cff560",
   "metadata": {},
   "source": [
    "### creating the input converter function"
   ]
  },
  {
   "cell_type": "code",
   "execution_count": 32,
   "id": "8ba3104a",
   "metadata": {},
   "outputs": [],
   "source": [
    "def convert_input(input_dict,\n",
    "                  pd = pd,\n",
    "                  all_lower = all_lower,\n",
    "                  time_extra_features = time_extra_features,\n",
    "                  dog_breed_bucketing = dog_breed_bucketing,\n",
    "                  cat_breed_bucketing = cat_breed_bucketing,\n",
    "                  color_bucketing = color_bucketing,\n",
    "                  numerical_convert = numerical_convert,\n",
    "                  train_feature = train_feature):\n",
    "    \n",
    "    df = pd.DataFrame([input_dict])\n",
    "    df = all_lower(df)\n",
    "    df['date_income']= pd.to_datetime(df['date_income'])\n",
    "    df = time_extra_features(df)\n",
    "    df['intake_age_months'] = df['intake_age_months'].astype(float)\n",
    "    df['IsMix'] = df['animal_breed'].str.contains('mix',case=False).astype(int)\n",
    "    df[['color_buckets','color_type']] = df['animal_color'].apply(color_bucketing)\n",
    "    df['breed_buckets'] = df['animal_breed'].str.replace('_',' ').apply(dog_breed_bucketing)\n",
    "    df['breed_buckets'] = df['animal_breed'].str.replace('_',' ').apply(cat_breed_bucketing)\n",
    "    df = numerical_convert(df)\n",
    "    \n",
    "    missing = []\n",
    "    for missing_col in train_feature:\n",
    "        if missing_col not in df.columns:\n",
    "            missing.append(missing_col)\n",
    "    \n",
    "    df[missing] = 0\n",
    "    del df['date_income']\n",
    "    del df['time_income']\n",
    "    del df['animal_breed']\n",
    "    del df['animal_color']\n",
    "    df = df.astype(float)\n",
    "    df = df[train_feature]\n",
    "    \n",
    "    return df"
   ]
  },
  {
   "cell_type": "markdown",
   "id": "b0541a40",
   "metadata": {},
   "source": [
    "### Applying the function"
   ]
  },
  {
   "cell_type": "code",
   "execution_count": 41,
   "id": "1bc70bde",
   "metadata": {},
   "outputs": [],
   "source": [
    "test_input = {'animal_type':'cat',\n",
    "              'intake_age_months':'1.0',\n",
    "              'intake_age_months':'1.0',\n",
    "              'date_income':'2022-10-15',\n",
    "              'time_income':'12:20:00',\n",
    "              'intake_type':'stray',\n",
    "              'intake_condition': 'normal',\n",
    "              'income_sex':'male',\n",
    "              'income_neutered':'intact',\n",
    "              'animal_breed': 'shorthair mix',\n",
    "              'animal_color': 'blue_tabby'\n",
    "    }"
   ]
  },
  {
   "cell_type": "code",
   "execution_count": 42,
   "id": "856bfa7f",
   "metadata": {},
   "outputs": [],
   "source": [
    "input_df = convert_input(test_input)"
   ]
  },
  {
   "cell_type": "code",
   "execution_count": 43,
   "id": "cf700ad1",
   "metadata": {},
   "outputs": [
    {
     "name": "stdout",
     "output_type": "stream",
     "text": [
      "test_input_pred: [1]\n"
     ]
    }
   ],
   "source": [
    "input_pred = final_model.predict(input_df)\n",
    "print('test_input_pred:',input_pred)"
   ]
  },
  {
   "cell_type": "code",
   "execution_count": 44,
   "id": "225fb939",
   "metadata": {},
   "outputs": [],
   "source": [
    "output_file = 'adoption_prediction.bin'\n",
    "convert_input_drill = dill.dumps(convert_input)\n",
    "\n",
    "with open(output_file, 'wb') as f_out:\n",
    "    pickle.dump((convert_input_drill,final_model), f_out)"
   ]
  },
  {
   "cell_type": "markdown",
   "id": "1caf38f4",
   "metadata": {},
   "source": [
    "# Using final model"
   ]
  },
  {
   "cell_type": "code",
   "execution_count": 47,
   "id": "3d7a5010",
   "metadata": {},
   "outputs": [],
   "source": [
    "output_file = 'adoption_prediction.bin'\n",
    "\n",
    "with open(output_file, 'rb') as f_in:\n",
    "    convert_input2 ,final_model2 = pickle.load(f_in)\n",
    "    \n",
    "convert_input_undrill = dill.loads(convert_input2)"
   ]
  },
  {
   "cell_type": "code",
   "execution_count": 48,
   "id": "69022070",
   "metadata": {},
   "outputs": [],
   "source": [
    "input_dic = {'animal_type':'dog',\n",
    "             'intake_age_months':'1.0',\n",
    "             'date_income':'2022-10-10',\n",
    "             'time_income':'12:20:00',\n",
    "             'intake_type':'stray',\n",
    "             'intake_condition': 'normal',\n",
    "             'income_sex':'male',\n",
    "             'income_neutered':'intact',\n",
    "             'animal_breed': 'pitbull',\n",
    "             'animal_color': 'black/white'\n",
    "            }"
   ]
  },
  {
   "cell_type": "code",
   "execution_count": 49,
   "id": "5f3e7ad2",
   "metadata": {},
   "outputs": [
    {
     "name": "stdout",
     "output_type": "stream",
     "text": [
      "[1]\n"
     ]
    }
   ],
   "source": [
    "input_df = convert_input_undrill(input_dic)\n",
    "input_pred = final_model2.predict(input_df)\n",
    "print(input_pred)"
   ]
  }
 ],
 "metadata": {
  "kernelspec": {
   "display_name": "Python 3 (ipykernel)",
   "language": "python",
   "name": "python3"
  },
  "language_info": {
   "codemirror_mode": {
    "name": "ipython",
    "version": 3
   },
   "file_extension": ".py",
   "mimetype": "text/x-python",
   "name": "python",
   "nbconvert_exporter": "python",
   "pygments_lexer": "ipython3",
   "version": "3.9.12"
  },
  "vscode": {
   "interpreter": {
    "hash": "2f162e9ff9e187194dabb767ab5a6052ac39024134c4914d57f0bf7941cdf501"
   }
  }
 },
 "nbformat": 4,
 "nbformat_minor": 5
}

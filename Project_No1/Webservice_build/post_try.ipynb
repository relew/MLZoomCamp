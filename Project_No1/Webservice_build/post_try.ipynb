{
 "cells": [
  {
   "cell_type": "code",
   "execution_count": 51,
   "id": "40ba2a6d",
   "metadata": {},
   "outputs": [],
   "source": [
    "import requests"
   ]
  },
  {
   "cell_type": "code",
   "execution_count": 52,
   "id": "da519c80",
   "metadata": {},
   "outputs": [],
   "source": [
    "url = 'http://127.0.0.1:9999/adoption_predict'"
   ]
  },
  {
   "cell_type": "markdown",
   "id": "654200cf",
   "metadata": {},
   "source": [
    "# Welcome to the animal adoption prediction model's beautiful front-end!"
   ]
  },
  {
   "cell_type": "code",
   "execution_count": 53,
   "id": "e8d19a87",
   "metadata": {},
   "outputs": [],
   "source": [
    "input_json = {\"animal_type\":\"dog\",\n",
    "              \"intake_age_months\":\"1.0\",\n",
    "              \"date_income\":\"2022-10-15\",\n",
    "              \"time_income\":\"12:20:00\",\n",
    "              \"intake_type\":\"stray\",\n",
    "              \"intake_condition\": \"normal\",\n",
    "              \"income_sex\":\"male\",\n",
    "              \"income_neutered\":\"intact\",\n",
    "              \"animal_breed\": \"pitbull\",\n",
    "              \"animal_color\": \"black/white\"\n",
    "            }"
   ]
  },
  {
   "cell_type": "code",
   "execution_count": 54,
   "id": "df5292ed",
   "metadata": {},
   "outputs": [],
   "source": [
    "response = requests.post(url, json = input_json).json()"
   ]
  },
  {
   "cell_type": "code",
   "execution_count": 55,
   "id": "de4d4c20",
   "metadata": {},
   "outputs": [
    {
     "name": "stdout",
     "output_type": "stream",
     "text": [
      "The animal will most likely be adopted in the future\n"
     ]
    }
   ],
   "source": [
    "if response['adoption_prediction'] == True:\n",
    "    print(\"The animal will most likely be adopted in the future\")"
   ]
  }
 ],
 "metadata": {
  "kernelspec": {
   "display_name": "Python 3 (ipykernel)",
   "language": "python",
   "name": "python3"
  },
  "language_info": {
   "codemirror_mode": {
    "name": "ipython",
    "version": 3
   },
   "file_extension": ".py",
   "mimetype": "text/x-python",
   "name": "python",
   "nbconvert_exporter": "python",
   "pygments_lexer": "ipython3",
   "version": "3.9.12"
  }
 },
 "nbformat": 4,
 "nbformat_minor": 5
}

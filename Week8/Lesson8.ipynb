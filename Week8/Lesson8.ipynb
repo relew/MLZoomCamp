{
 "cells": [
  {
   "cell_type": "code",
   "execution_count": 1,
   "id": "56c04c63",
   "metadata": {},
   "outputs": [],
   "source": [
    "import numpy as np\n",
    "import matplotlib.pyplot as plt\n",
    "%matplotlib inline\n",
    "\n",
    "import tensorflow as tf\n",
    "from tensorflow import keras"
   ]
  },
  {
   "cell_type": "code",
   "execution_count": 2,
   "id": "1eb8e6b5",
   "metadata": {},
   "outputs": [],
   "source": [
    "from tensorflow.keras.preprocessing.image import  load_img"
   ]
  },
  {
   "cell_type": "code",
   "execution_count": 3,
   "id": "4746c2f9",
   "metadata": {},
   "outputs": [],
   "source": [
    "path = './clothing-dataset-small/train/t-shirt'\n",
    "name = '5f0a3fa0-6a3d-4b68-b213-72766a643de7.jpg'\n",
    "fullname = f'{path}/{name}'"
   ]
  },
  {
   "cell_type": "code",
   "execution_count": 4,
   "id": "6fa401f3",
   "metadata": {},
   "outputs": [],
   "source": [
    "img = load_img(fullname, target_size =(299,299))"
   ]
  },
  {
   "cell_type": "code",
   "execution_count": 5,
   "id": "d31726ba",
   "metadata": {},
   "outputs": [
    {
     "name": "stdout",
     "output_type": "stream",
     "text": [
      "<PIL.Image.Image image mode=RGB size=299x299 at 0x7FBD041A7160>\n"
     ]
    }
   ],
   "source": [
    "print(img)"
   ]
  },
  {
   "cell_type": "code",
   "execution_count": 6,
   "id": "aadf1ee5",
   "metadata": {},
   "outputs": [],
   "source": [
    "x = np.array(img)"
   ]
  },
  {
   "cell_type": "markdown",
   "id": "6f4a1f2a",
   "metadata": {},
   "source": [
    "# Pre-trained convolutional neural networks"
   ]
  },
  {
   "cell_type": "code",
   "execution_count": 7,
   "id": "c999fa34",
   "metadata": {},
   "outputs": [],
   "source": [
    "from tensorflow.keras.applications.xception import Xception\n",
    "from tensorflow.keras.applications.xception import preprocess_input\n",
    "from tensorflow.keras.applications.xception import decode_predictions"
   ]
  },
  {
   "cell_type": "code",
   "execution_count": 8,
   "id": "0587eff2",
   "metadata": {},
   "outputs": [
    {
     "name": "stderr",
     "output_type": "stream",
     "text": [
      "2022-10-27 17:19:29.473549: I tensorflow/compiler/jit/xla_cpu_device.cc:41] Not creating XLA devices, tf_xla_enable_xla_devices not set\n",
      "2022-10-27 17:19:29.473930: I tensorflow/core/platform/cpu_feature_guard.cc:142] This TensorFlow binary is optimized with oneAPI Deep Neural Network Library (oneDNN) to use the following CPU instructions in performance-critical operations:  SSE4.1 SSE4.2 AVX AVX2 FMA\n",
      "To enable them in other operations, rebuild TensorFlow with the appropriate compiler flags.\n",
      "2022-10-27 17:19:29.479724: I tensorflow/core/common_runtime/process_util.cc:146] Creating new thread pool with default inter op setting: 2. Tune using inter_op_parallelism_threads for best performance.\n"
     ]
    }
   ],
   "source": [
    "model = Xception(weights = 'imagenet', input_shape = (299,299,3))"
   ]
  },
  {
   "cell_type": "code",
   "execution_count": 9,
   "id": "ea01f665",
   "metadata": {},
   "outputs": [],
   "source": [
    "X = np.array([x])\n",
    "X_test = preprocess_input(X)"
   ]
  },
  {
   "cell_type": "code",
   "execution_count": 10,
   "id": "22758d3d",
   "metadata": {},
   "outputs": [
    {
     "name": "stderr",
     "output_type": "stream",
     "text": [
      "2022-10-27 17:19:30.950238: I tensorflow/compiler/mlir/mlir_graph_optimization_pass.cc:116] None of the MLIR optimization passes are enabled (registered 2)\n",
      "2022-10-27 17:19:30.950963: I tensorflow/core/platform/profile_utils/cpu_utils.cc:112] CPU Frequency: 1799995000 Hz\n"
     ]
    }
   ],
   "source": [
    "pred_test = model.predict(X_test)"
   ]
  },
  {
   "cell_type": "code",
   "execution_count": 11,
   "id": "9728cd22",
   "metadata": {},
   "outputs": [
    {
     "data": {
      "text/plain": [
       "[[('n03595614', 'jersey', 0.6819639),\n",
       "  ('n02916936', 'bulletproof_vest', 0.038139865),\n",
       "  ('n04370456', 'sweatshirt', 0.034324702),\n",
       "  ('n03710637', 'maillot', 0.011354212),\n",
       "  ('n04525038', 'velvet', 0.0018453546)]]"
      ]
     },
     "execution_count": 11,
     "metadata": {},
     "output_type": "execute_result"
    }
   ],
   "source": [
    "decode_predictions(pred_test)"
   ]
  },
  {
   "cell_type": "markdown",
   "id": "7e2278a1",
   "metadata": {},
   "source": [
    "# Transfer learning"
   ]
  },
  {
   "cell_type": "code",
   "execution_count": 12,
   "id": "60a4bae1",
   "metadata": {},
   "outputs": [],
   "source": [
    "from tensorflow.keras.preprocessing.image import ImageDataGenerator"
   ]
  },
  {
   "cell_type": "code",
   "execution_count": 13,
   "id": "b4ca2091",
   "metadata": {},
   "outputs": [
    {
     "name": "stdout",
     "output_type": "stream",
     "text": [
      "Found 3068 images belonging to 10 classes.\n",
      "Found 3068 images belonging to 10 classes.\n"
     ]
    }
   ],
   "source": [
    "train_gen = ImageDataGenerator(preprocessing_function= preprocess_input)\n",
    "\n",
    "train_dataset = train_gen.flow_from_directory('./clothing-dataset-small/train',\n",
    "                              target_size=(150,150),\n",
    "                              batch_size=32)\n",
    "\n",
    "val_gen = ImageDataGenerator(preprocessing_function= preprocess_input)\n",
    "\n",
    "val_dataset = val_gen.flow_from_directory('./clothing-dataset-small/train',\n",
    "                              target_size=(150,150),\n",
    "                              batch_size=32)"
   ]
  },
  {
   "cell_type": "code",
   "execution_count": 14,
   "id": "97212a39",
   "metadata": {},
   "outputs": [],
   "source": [
    "base_model = Xception(weights = 'imagenet',\n",
    "                      include_top = False,\n",
    "                      input_shape = (150,150,3))\n",
    "\n",
    "base_model.trainable = False\n",
    "########################################################\n",
    "inputs = keras.Input(shape=(150,150,3))\n",
    "base = base_model(inputs, training = False)\n",
    "#polling from 3D to 2D\n",
    "vectors = keras.layers.GlobalAveragePooling2D()(base)\n",
    "#adding dense layer\n",
    "outputs = keras.layers.Dense(10)(vectors)\n",
    "model = keras.Model(inputs,outputs)\n",
    "######################################################\n",
    "learning_rate = 0.01\n",
    "optimizer = keras.optimizers.Adam(learning_rate = learning_rate)\n",
    "loss = keras.losses.CategoricalCrossentropy(from_logits=True)\n",
    "model.compile(optimizer = optimizer,\n",
    "             loss = loss,\n",
    "             metrics = ['accuracy'])"
   ]
  },
  {
   "cell_type": "code",
   "execution_count": 15,
   "id": "eceb9df5",
   "metadata": {},
   "outputs": [
    {
     "name": "stdout",
     "output_type": "stream",
     "text": [
      "Epoch 1/5\n",
      "96/96 [==============================] - 285s 3s/step - loss: 1.7357 - accuracy: 0.5740 - val_loss: 0.5321 - val_accuracy: 0.8259\n",
      "Epoch 2/5\n",
      "96/96 [==============================] - 268s 3s/step - loss: 0.5223 - accuracy: 0.8252 - val_loss: 0.4462 - val_accuracy: 0.8465\n",
      "Epoch 3/5\n",
      "96/96 [==============================] - 267s 3s/step - loss: 0.3308 - accuracy: 0.8871 - val_loss: 0.1615 - val_accuracy: 0.9449\n",
      "Epoch 4/5\n",
      "96/96 [==============================] - 299s 3s/step - loss: 0.2053 - accuracy: 0.9278 - val_loss: 0.1351 - val_accuracy: 0.9547\n",
      "Epoch 5/5\n",
      "96/96 [==============================] - 249s 3s/step - loss: 0.1405 - accuracy: 0.9488 - val_loss: 0.1237 - val_accuracy: 0.9534\n"
     ]
    }
   ],
   "source": [
    "history = model.fit(train_dataset, epochs=5 , validation_data= val_dataset)"
   ]
  },
  {
   "cell_type": "markdown",
   "id": "d12aaf84",
   "metadata": {},
   "source": [
    "# Playing with the learning rate"
   ]
  },
  {
   "cell_type": "code",
   "execution_count": null,
   "id": "2d2c2a88",
   "metadata": {},
   "outputs": [],
   "source": [
    "def make_learning_model(learning_rate = 0.01):\n",
    "    base_model = Xception(weights = 'imagenet',\n",
    "                      include_top = False,\n",
    "                      input_shape = (150,150,3))\n",
    "\n",
    "    base_model.trainable = False\n",
    "    ########################################################\n",
    "    inputs = keras.Input(shape=(150,150,3))\n",
    "    base = base_model(inputs, training = False)\n",
    "    #polling from 3D to 2D\n",
    "    vectors = keras.layers.GlobalAveragePooling2D()(base)\n",
    "    #adding dense layer\n",
    "    outputs = keras.layers.Dense(10)(vectors)\n",
    "    model = keras.Model(inputs,outputs)\n",
    "    ######################################################\n",
    "    learning_rate = 0.01\n",
    "    optimizer = keras.optimizers.Adam(learning_rate = learning_rate)\n",
    "\n",
    "    loss = keras.losses.CategoricalCrossentropy(from_logits=True)\n",
    "    model.compile(optimizer = optimizer,\n",
    "             loss = loss,\n",
    "             metrics = ['accuracy'])\n",
    "    \n",
    "    return model"
   ]
  },
  {
   "cell_type": "code",
   "execution_count": null,
   "id": "ef4c8e32",
   "metadata": {},
   "outputs": [],
   "source": [
    "scores = {}\n",
    "\n",
    "for lr in [0.0001,0.001,0.01,0.1]:\n",
    "    \n",
    "    model = make_learning_model(lr)\n",
    "    history = model.fit(train_dataset, epochs=5 , validation_data= val_dataset)\n",
    "    scores[lr]= history.history"
   ]
  },
  {
   "cell_type": "code",
   "execution_count": null,
   "id": "4fe40891",
   "metadata": {},
   "outputs": [],
   "source": [
    "for lr,hist in scores.item():\n",
    "    plt.plot(hist['val_accuracy'], label = 'val_acc')\n",
    "    \n",
    "plt.xticks(np.arange(10))\n",
    "plt.legend()"
   ]
  },
  {
   "cell_type": "code",
   "execution_count": null,
   "id": "3e6c7843",
   "metadata": {},
   "outputs": [],
   "source": []
  },
  {
   "cell_type": "code",
   "execution_count": 58,
   "id": "3df12d05",
   "metadata": {},
   "outputs": [
    {
     "name": "stdout",
     "output_type": "stream",
     "text": [
      "WARNING:tensorflow:5 out of the last 6 calls to <function Model.make_predict_function.<locals>.predict_function at 0x7f98c8e88790> triggered tf.function retracing. Tracing is expensive and the excessive number of tracings could be due to (1) creating @tf.function repeatedly in a loop, (2) passing tensors with different shapes, (3) passing Python objects instead of tensors. For (1), please define your @tf.function outside of the loop. For (2), @tf.function has experimental_relax_shapes=True option that relaxes argument shapes that can avoid unnecessary retracing. For (3), please refer to https://www.tensorflow.org/guide/function#controlling_retracing and https://www.tensorflow.org/api_docs/python/tf/function for  more details.\n"
     ]
    }
   ],
   "source": [
    "preds = model.predict(X)"
   ]
  },
  {
   "cell_type": "code",
   "execution_count": 59,
   "id": "11a321f1",
   "metadata": {},
   "outputs": [
    {
     "data": {
      "text/plain": [
       "(32, 10)"
      ]
     },
     "execution_count": 59,
     "metadata": {},
     "output_type": "execute_result"
    }
   ],
   "source": [
    "preds.shape"
   ]
  },
  {
   "cell_type": "code",
   "execution_count": null,
   "id": "ee07bc08",
   "metadata": {},
   "outputs": [],
   "source": []
  }
 ],
 "metadata": {
  "kernelspec": {
   "display_name": "Python 3 (ipykernel)",
   "language": "python",
   "name": "python3"
  },
  "language_info": {
   "codemirror_mode": {
    "name": "ipython",
    "version": 3
   },
   "file_extension": ".py",
   "mimetype": "text/x-python",
   "name": "python",
   "nbconvert_exporter": "python",
   "pygments_lexer": "ipython3",
   "version": "3.9.12"
  }
 },
 "nbformat": 4,
 "nbformat_minor": 5
}
